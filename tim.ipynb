{
 "cells": [
  {
   "cell_type": "code",
   "execution_count": 9,
   "metadata": {},
   "outputs": [],
   "source": [
    "from datetime import datetime\n",
    "import pandas as pd\n",
    "import numpy as np\n",
    "import time\n",
    "import os\n",
    "import re\n",
    "\n",
    "df = pd.read_csv('res_sm.csv', index_col=0)\n",
    "df['时间'] = pd.Series(dtype=str)\n",
    "df['content'] = pd.Series(dtype=str)\n",
    "\n",
    "file_list = list(os.listdir('./bribe_data/'))\n",
    "results = pd.DataFrame(index = file_list)\n",
    "for i in range(len(results)):\n",
    "    if results.index[i] in df.index:\n",
    "        with open('./bribe_data/'+results.index[i],'r+',encoding='utf8') as f:\n",
    "            content = f.read()\n",
    "            df.loc[results.index[i],'content']=content"
   ]
  },
  {
   "cell_type": "code",
   "execution_count": 21,
   "metadata": {},
   "outputs": [],
   "source": [
    "for idx,row in df.iterrows():\n",
    "    if row['content'] is not np.nan:\n",
    "        content = row['content']\n",
    "        pattern = re.compile('(?<=判决书（).*?(?=）)')\n",
    "        match = pattern.search(content)\n",
    "        if match:\n",
    "            date = match.group()\n",
    "            df.loc[idx,'时间'] = date if len(date)==4 else np.nan\n",
    "        else:\n",
    "            df.loc[idx,'时间'] = np.nan\n",
    "    else:\n",
    "        df.loc[idx,'时间'] = np.nan"
   ]
  },
  {
   "cell_type": "code",
   "execution_count": 23,
   "metadata": {},
   "outputs": [],
   "source": [
    "df.to_csv('res_sm.csv')"
   ]
  }
 ],
 "metadata": {
  "kernelspec": {
   "display_name": "Python 3.9.7 ('base')",
   "language": "python",
   "name": "python3"
  },
  "language_info": {
   "codemirror_mode": {
    "name": "ipython",
    "version": 3
   },
   "file_extension": ".py",
   "mimetype": "text/x-python",
   "name": "python",
   "nbconvert_exporter": "python",
   "pygments_lexer": "ipython3",
   "version": "3.9.7"
  },
  "orig_nbformat": 4,
  "vscode": {
   "interpreter": {
    "hash": "91a314fe8294e1a305f1e19833a48c0376e70f37ff18b9e82d8cfb33f29e10ef"
   }
  }
 },
 "nbformat": 4,
 "nbformat_minor": 2
}
