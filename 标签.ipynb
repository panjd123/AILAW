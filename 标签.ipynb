{
 "cells": [
  {
   "cell_type": "code",
   "execution_count": 1,
   "id": "abbcff1d",
   "metadata": {},
   "outputs": [],
   "source": [
    "import pandas as pd\n",
    "import numpy as np\n",
    "import re\n",
    "import os"
   ]
  },
  {
   "cell_type": "code",
   "execution_count": 2,
   "id": "6186d5d0",
   "metadata": {},
   "outputs": [],
   "source": [
    "file_list = list(os.listdir('/Users/sitongli/Desktop/law/bribe_data/'))\n",
    "file_list.remove('.DS_Store')"
   ]
  },
  {
   "cell_type": "code",
   "execution_count": 3,
   "id": "79f98479",
   "metadata": {},
   "outputs": [],
   "source": [
    "results = pd.DataFrame(index = file_list)"
   ]
  },
  {
   "cell_type": "code",
   "execution_count": 4,
   "id": "4b0f318f",
   "metadata": {},
   "outputs": [
    {
     "name": "stderr",
     "output_type": "stream",
     "text": [
      "/var/folders/wl/979m696s19n36hpys3mzqq2c0000gn/T/ipykernel_61228/357701048.py:1: DeprecationWarning: The default dtype for empty Series will be 'object' instead of 'float64' in a future version. Specify a dtype explicitly to silence this warning.\n",
      "  results['事实认定'] = pd.Series()\n",
      "/var/folders/wl/979m696s19n36hpys3mzqq2c0000gn/T/ipykernel_61228/357701048.py:2: DeprecationWarning: The default dtype for empty Series will be 'object' instead of 'float64' in a future version. Specify a dtype explicitly to silence this warning.\n",
      "  results['审理意见'] = pd.Series()\n",
      "/var/folders/wl/979m696s19n36hpys3mzqq2c0000gn/T/ipykernel_61228/357701048.py:3: DeprecationWarning: The default dtype for empty Series will be 'object' instead of 'float64' in a future version. Specify a dtype explicitly to silence this warning.\n",
      "  results['判决结果'] = pd.Series()\n",
      "/opt/anaconda3/lib/python3.9/site-packages/pandas/core/indexing.py:1732: SettingWithCopyWarning: \n",
      "A value is trying to be set on a copy of a slice from a DataFrame\n",
      "\n",
      "See the caveats in the documentation: https://pandas.pydata.org/pandas-docs/stable/user_guide/indexing.html#returning-a-view-versus-a-copy\n",
      "  self._setitem_single_block(indexer, value, name)\n"
     ]
    }
   ],
   "source": [
    "results['事实认定'] = pd.Series()\n",
    "results['审理意见'] = pd.Series()\n",
    "results['判决结果'] = pd.Series()\n",
    "for i in range(len(results)):\n",
    "    with open('/Users/sitongli/Desktop/law/bribe_data/'+results.index[i],'r+',encoding='utf8') as f:\n",
    "        content = f.read()\n",
    "        if len(re.findall('经审理查明(.*?)本院认为',content,re.S)) !=0:\n",
    "            results['事实认定'].iloc[i] =  re.findall('经审理查明(.*?)本院认为',content,re.S)[0]\n",
    "        if len(re.findall('本院认为(.*?)判决如下',content,re.S)) !=0:\n",
    "            results['审理意见'].iloc[i] =  re.findall('本院认为(.*?)判决如下',content,re.S)[0]\n",
    "        if len(re.findall('判决如下(.*?)审判长',content,re.S)) !=0:\n",
    "            results['判决结果'].iloc[i] =  re.findall('判决如下(.*?)审判长',content,re.S)[0]\n",
    "\n",
    "        "
   ]
  },
  {
   "cell_type": "code",
   "execution_count": 5,
   "id": "643d3704",
   "metadata": {},
   "outputs": [],
   "source": [
    "results = results.dropna()"
   ]
  },
  {
   "cell_type": "code",
   "execution_count": 6,
   "id": "6f0d950d",
   "metadata": {},
   "outputs": [
    {
     "data": {
      "text/html": [
       "<div>\n",
       "<style scoped>\n",
       "    .dataframe tbody tr th:only-of-type {\n",
       "        vertical-align: middle;\n",
       "    }\n",
       "\n",
       "    .dataframe tbody tr th {\n",
       "        vertical-align: top;\n",
       "    }\n",
       "\n",
       "    .dataframe thead th {\n",
       "        text-align: right;\n",
       "    }\n",
       "</style>\n",
       "<table border=\"1\" class=\"dataframe\">\n",
       "  <thead>\n",
       "    <tr style=\"text-align: right;\">\n",
       "      <th></th>\n",
       "      <th>事实认定</th>\n",
       "      <th>审理意见</th>\n",
       "      <th>判决结果</th>\n",
       "    </tr>\n",
       "  </thead>\n",
       "  <tbody>\n",
       "    <tr>\n",
       "      <th>11303.txt</th>\n",
       "      <td>，被告人王某甲在担任盐城市盐都区龙冈镇副镇长、盐城市盐都区农村经济开发区管委会副主任期间，于...</td>\n",
       "      <td>，被告人王某甲身为国家工作人员，利用职务上的便利，非法收受他人财物，数额巨大，为他人谋取利益...</td>\n",
       "      <td>：一、被告人王某甲犯受贿罪，判处有期徒刑三年，并处罚金人民币三十万元。（刑期从判决执行之日起...</td>\n",
       "    </tr>\n",
       "    <tr>\n",
       "      <th>3644.txt</th>\n",
       "      <td>，2007年至2011年间，被告人卓天双利用其担任桐林监狱监狱长的职务便利，在桐林监狱迁建梧...</td>\n",
       "      <td>，被告人卓天双身为国家工作人员，利用职务上的便利，非法收受他人人民币41万元，为他人谋取利益...</td>\n",
       "      <td>：一、被告人卓天双犯受贿罪，判处有期徒刑三年三个月，并处罚金人民币二十八万元；（刑期从判决执...</td>\n",
       "    </tr>\n",
       "    <tr>\n",
       "      <th>18441.txt</th>\n",
       "      <td>，一、被告人谢飞军在担任浙江师范大学杭州幼儿师范学院副院长及浙江师范大学杭州校区管理办公室副...</td>\n",
       "      <td>，被告人谢飞军系国家工作人员，利用职务上的便利，非法收受他人财物，为他人谋取利益，其行为已构...</td>\n",
       "      <td>：一、被告人谢飞军犯受贿罪，判处有期徒刑十年，并处没收财产人民币20000元（刑期从判决执行...</td>\n",
       "    </tr>\n",
       "    <tr>\n",
       "      <th>5235.txt</th>\n",
       "      <td>：2013年11月至案发，被告人龙开泉担任雅安市名山区水务局局长。龙开泉在其任职期间，利用职...</td>\n",
       "      <td>，被告人龙开泉身为国家工作人员，利用职务之便，非法收受他人财物230万元，数额巨大，并为他人...</td>\n",
       "      <td>：一、被告人龙开泉犯受贿罪，判处有期徒刑七年，并处罚金人民币三十万元。（刑期自判决执行之日起...</td>\n",
       "    </tr>\n",
       "    <tr>\n",
       "      <th>1053.txt</th>\n",
       "      <td>：2011年冬季征兵期间，刘绪树为了让其子刘晓龙顺利入伍，在被告人翟某办公室送给翟某人民币现...</td>\n",
       "      <td>，被告人翟某身为鄂州市梁子湖区梁子镇党委委员、武装部长，在其负责梁子镇征兵过程中，利用职务便...</td>\n",
       "      <td>：被告人翟某犯受贿罪，判处免予刑事处罚。如不服本判决，可在接到判决书的第二日起十日内，通过本...</td>\n",
       "    </tr>\n",
       "    <tr>\n",
       "      <th>...</th>\n",
       "      <td>...</td>\n",
       "      <td>...</td>\n",
       "      <td>...</td>\n",
       "    </tr>\n",
       "    <tr>\n",
       "      <th>2543.txt</th>\n",
       "      <td>：2013年初至2016年7月间，被告人胡怀远身为怀远县徐圩乡卫生院药剂科主任，利用负责该院...</td>\n",
       "      <td>：被告人胡怀远身为怀远县徐圩乡卫生院药剂科主任，利用负责该院药品采购计划申报工作的职务便利，...</td>\n",
       "      <td>：一、被告人胡怀远犯受贿罪，判处有期徒刑九个月，缓刑一年，罚金人民币118000元（已缴纳1...</td>\n",
       "    </tr>\n",
       "    <tr>\n",
       "      <th>18458.txt</th>\n",
       "      <td>：（一）受贿犯罪部分2004年至2007年10月，被告人华勇在杭州市上城区文化广电新闻出版（...</td>\n",
       "      <td>，被告人华勇身为国家工作人员，利用职务上的便利，非法收受他人财物，为他人谋取利益，其行为已构...</td>\n",
       "      <td>：一、被告人华勇犯受贿罪，判处有期徒刑五年四个月；犯介绍贿赂罪，判处有期徒刑六个月；二罪并罚...</td>\n",
       "    </tr>\n",
       "    <tr>\n",
       "      <th>3885.txt</th>\n",
       "      <td>：受贿2004年9月至2017年1月期间，被告人张某利用担任南京市溧水（县）区人民医院财务科...</td>\n",
       "      <td>，被告人张某身为国家工作人员，利用职务上的便利，非法收受他人财物，数额巨大，为他人谋取利益，...</td>\n",
       "      <td>：一、被告人张某犯受贿罪，判处有期徒刑二年二个月，罚金人民币十五万元；犯挪用公款罪，判处有期...</td>\n",
       "    </tr>\n",
       "    <tr>\n",
       "      <th>4132.txt</th>\n",
       "      <td>，2011年年初，被告人郝忠宝利用其担任黑龙江省农垦管理局xx实验农场场长职务之便，将xx实...</td>\n",
       "      <td>，被告人郝忠宝利用职务上的便利，为他人谋取利益，并非法收受他人财物，其行为已构成受贿罪。应予...</td>\n",
       "      <td>：一、被告人郝忠宝犯受贿罪，判处有期徒刑三年，缓刑四年，并处罚金人民币三十万元，待判决生效后...</td>\n",
       "    </tr>\n",
       "    <tr>\n",
       "      <th>19746.txt</th>\n",
       "      <td>，2011年12月份，被告人张某在担任无棣县水务局马颊德惠河道管理段胡道口闸管所所长期间，利...</td>\n",
       "      <td>，被告人张某身为国家机关工作人员，无视国家法律，利用职务之便，非法收受他人贿赂20000元，...</td>\n",
       "      <td>：被告人张某犯受贿罪，免予刑事处罚。如不服本判决，可在接到判决书的第二日起十日内，通过本院或...</td>\n",
       "    </tr>\n",
       "  </tbody>\n",
       "</table>\n",
       "<p>18630 rows × 3 columns</p>\n",
       "</div>"
      ],
      "text/plain": [
       "                                                        事实认定  \\\n",
       "11303.txt  ，被告人王某甲在担任盐城市盐都区龙冈镇副镇长、盐城市盐都区农村经济开发区管委会副主任期间，于...   \n",
       "3644.txt   ，2007年至2011年间，被告人卓天双利用其担任桐林监狱监狱长的职务便利，在桐林监狱迁建梧...   \n",
       "18441.txt  ，一、被告人谢飞军在担任浙江师范大学杭州幼儿师范学院副院长及浙江师范大学杭州校区管理办公室副...   \n",
       "5235.txt   ：2013年11月至案发，被告人龙开泉担任雅安市名山区水务局局长。龙开泉在其任职期间，利用职...   \n",
       "1053.txt   ：2011年冬季征兵期间，刘绪树为了让其子刘晓龙顺利入伍，在被告人翟某办公室送给翟某人民币现...   \n",
       "...                                                      ...   \n",
       "2543.txt   ：2013年初至2016年7月间，被告人胡怀远身为怀远县徐圩乡卫生院药剂科主任，利用负责该院...   \n",
       "18458.txt  ：（一）受贿犯罪部分2004年至2007年10月，被告人华勇在杭州市上城区文化广电新闻出版（...   \n",
       "3885.txt   ：受贿2004年9月至2017年1月期间，被告人张某利用担任南京市溧水（县）区人民医院财务科...   \n",
       "4132.txt   ，2011年年初，被告人郝忠宝利用其担任黑龙江省农垦管理局xx实验农场场长职务之便，将xx实...   \n",
       "19746.txt  ，2011年12月份，被告人张某在担任无棣县水务局马颊德惠河道管理段胡道口闸管所所长期间，利...   \n",
       "\n",
       "                                                        审理意见  \\\n",
       "11303.txt  ，被告人王某甲身为国家工作人员，利用职务上的便利，非法收受他人财物，数额巨大，为他人谋取利益...   \n",
       "3644.txt   ，被告人卓天双身为国家工作人员，利用职务上的便利，非法收受他人人民币41万元，为他人谋取利益...   \n",
       "18441.txt  ，被告人谢飞军系国家工作人员，利用职务上的便利，非法收受他人财物，为他人谋取利益，其行为已构...   \n",
       "5235.txt   ，被告人龙开泉身为国家工作人员，利用职务之便，非法收受他人财物230万元，数额巨大，并为他人...   \n",
       "1053.txt   ，被告人翟某身为鄂州市梁子湖区梁子镇党委委员、武装部长，在其负责梁子镇征兵过程中，利用职务便...   \n",
       "...                                                      ...   \n",
       "2543.txt   ：被告人胡怀远身为怀远县徐圩乡卫生院药剂科主任，利用负责该院药品采购计划申报工作的职务便利，...   \n",
       "18458.txt  ，被告人华勇身为国家工作人员，利用职务上的便利，非法收受他人财物，为他人谋取利益，其行为已构...   \n",
       "3885.txt   ，被告人张某身为国家工作人员，利用职务上的便利，非法收受他人财物，数额巨大，为他人谋取利益，...   \n",
       "4132.txt   ，被告人郝忠宝利用职务上的便利，为他人谋取利益，并非法收受他人财物，其行为已构成受贿罪。应予...   \n",
       "19746.txt  ，被告人张某身为国家机关工作人员，无视国家法律，利用职务之便，非法收受他人贿赂20000元，...   \n",
       "\n",
       "                                                        判决结果  \n",
       "11303.txt  ：一、被告人王某甲犯受贿罪，判处有期徒刑三年，并处罚金人民币三十万元。（刑期从判决执行之日起...  \n",
       "3644.txt   ：一、被告人卓天双犯受贿罪，判处有期徒刑三年三个月，并处罚金人民币二十八万元；（刑期从判决执...  \n",
       "18441.txt  ：一、被告人谢飞军犯受贿罪，判处有期徒刑十年，并处没收财产人民币20000元（刑期从判决执行...  \n",
       "5235.txt   ：一、被告人龙开泉犯受贿罪，判处有期徒刑七年，并处罚金人民币三十万元。（刑期自判决执行之日起...  \n",
       "1053.txt   ：被告人翟某犯受贿罪，判处免予刑事处罚。如不服本判决，可在接到判决书的第二日起十日内，通过本...  \n",
       "...                                                      ...  \n",
       "2543.txt   ：一、被告人胡怀远犯受贿罪，判处有期徒刑九个月，缓刑一年，罚金人民币118000元（已缴纳1...  \n",
       "18458.txt  ：一、被告人华勇犯受贿罪，判处有期徒刑五年四个月；犯介绍贿赂罪，判处有期徒刑六个月；二罪并罚...  \n",
       "3885.txt   ：一、被告人张某犯受贿罪，判处有期徒刑二年二个月，罚金人民币十五万元；犯挪用公款罪，判处有期...  \n",
       "4132.txt   ：一、被告人郝忠宝犯受贿罪，判处有期徒刑三年，缓刑四年，并处罚金人民币三十万元，待判决生效后...  \n",
       "19746.txt  ：被告人张某犯受贿罪，免予刑事处罚。如不服本判决，可在接到判决书的第二日起十日内，通过本院或...  \n",
       "\n",
       "[18630 rows x 3 columns]"
      ]
     },
     "execution_count": 6,
     "metadata": {},
     "output_type": "execute_result"
    }
   ],
   "source": [
    "results"
   ]
  },
  {
   "cell_type": "code",
   "execution_count": 21,
   "id": "b0f8cf02",
   "metadata": {},
   "outputs": [
    {
     "name": "stderr",
     "output_type": "stream",
     "text": [
      "/var/folders/wl/979m696s19n36hpys3mzqq2c0000gn/T/ipykernel_60330/469089458.py:2: SettingWithCopyWarning: \n",
      "A value is trying to be set on a copy of a slice from a DataFrame.\n",
      "Try using .loc[row_indexer,col_indexer] = value instead\n",
      "\n",
      "See the caveats in the documentation: https://pandas.pydata.org/pandas-docs/stable/user_guide/indexing.html#returning-a-view-versus-a-copy\n",
      "  results['退赃'] = results['事实认定'].str.contains('退赃')\n"
     ]
    },
    {
     "data": {
      "text/plain": [
       "3872"
      ]
     },
     "execution_count": 21,
     "metadata": {},
     "output_type": "execute_result"
    }
   ],
   "source": [
    "#有效\n",
    "results['退赃'] = results['事实认定'].str.contains('退赃')\n",
    "results['退赃'].sum()"
   ]
  },
  {
   "cell_type": "code",
   "execution_count": 22,
   "id": "00875944",
   "metadata": {},
   "outputs": [
    {
     "name": "stderr",
     "output_type": "stream",
     "text": [
      "/var/folders/wl/979m696s19n36hpys3mzqq2c0000gn/T/ipykernel_60330/2099479074.py:1: SettingWithCopyWarning: \n",
      "A value is trying to be set on a copy of a slice from a DataFrame.\n",
      "Try using .loc[row_indexer,col_indexer] = value instead\n",
      "\n",
      "See the caveats in the documentation: https://pandas.pydata.org/pandas-docs/stable/user_guide/indexing.html#returning-a-view-versus-a-copy\n",
      "  results['自首'] = results['事实认定'].str.contains('自首')\n"
     ]
    },
    {
     "data": {
      "text/plain": [
       "3157"
      ]
     },
     "execution_count": 22,
     "metadata": {},
     "output_type": "execute_result"
    }
   ],
   "source": [
    "results['自首'] = results['事实认定'].str.contains('自首')\n",
    "results['自首'].sum()"
   ]
  },
  {
   "cell_type": "code",
   "execution_count": 24,
   "id": "467ca1e6",
   "metadata": {},
   "outputs": [
    {
     "name": "stderr",
     "output_type": "stream",
     "text": [
      "/var/folders/wl/979m696s19n36hpys3mzqq2c0000gn/T/ipykernel_60330/2539764350.py:1: SettingWithCopyWarning: \n",
      "A value is trying to be set on a copy of a slice from a DataFrame.\n",
      "Try using .loc[row_indexer,col_indexer] = value instead\n",
      "\n",
      "See the caveats in the documentation: https://pandas.pydata.org/pandas-docs/stable/user_guide/indexing.html#returning-a-view-versus-a-copy\n",
      "  results['不构成自首'] = results['审理意见'].str.contains('不构成自首')\n"
     ]
    },
    {
     "data": {
      "text/plain": [
       "434"
      ]
     },
     "execution_count": 24,
     "metadata": {},
     "output_type": "execute_result"
    }
   ],
   "source": [
    "results['不构成自首'] = results['审理意见'].str.contains('不构成自首')\n",
    "results['不构成自首'].sum()"
   ]
  },
  {
   "cell_type": "code",
   "execution_count": 25,
   "id": "672a1382",
   "metadata": {},
   "outputs": [
    {
     "name": "stderr",
     "output_type": "stream",
     "text": [
      "/var/folders/wl/979m696s19n36hpys3mzqq2c0000gn/T/ipykernel_60330/840701845.py:1: SettingWithCopyWarning: \n",
      "A value is trying to be set on a copy of a slice from a DataFrame.\n",
      "Try using .loc[row_indexer,col_indexer] = value instead\n",
      "\n",
      "See the caveats in the documentation: https://pandas.pydata.org/pandas-docs/stable/user_guide/indexing.html#returning-a-view-versus-a-copy\n",
      "  results['坦白'] = results['事实认定'].str.contains('坦白')\n",
      "/var/folders/wl/979m696s19n36hpys3mzqq2c0000gn/T/ipykernel_60330/840701845.py:2: SettingWithCopyWarning: \n",
      "A value is trying to be set on a copy of a slice from a DataFrame.\n",
      "Try using .loc[row_indexer,col_indexer] = value instead\n",
      "\n",
      "See the caveats in the documentation: https://pandas.pydata.org/pandas-docs/stable/user_guide/indexing.html#returning-a-view-versus-a-copy\n",
      "  results['如实供述'] = results['事实认定'].str.contains('如实供述')\n",
      "/var/folders/wl/979m696s19n36hpys3mzqq2c0000gn/T/ipykernel_60330/840701845.py:3: SettingWithCopyWarning: \n",
      "A value is trying to be set on a copy of a slice from a DataFrame.\n",
      "Try using .loc[row_indexer,col_indexer] = value instead\n",
      "\n",
      "See the caveats in the documentation: https://pandas.pydata.org/pandas-docs/stable/user_guide/indexing.html#returning-a-view-versus-a-copy\n",
      "  results['主动交代'] = results['事实认定'].str.contains('主动交代')\n"
     ]
    }
   ],
   "source": [
    "results['坦白'] = results['事实认定'].str.contains('坦白')\n",
    "results['如实供述'] = results['事实认定'].str.contains('如实供述')\n",
    "results['主动交代'] = results['事实认定'].str.contains('主动交代')"
   ]
  },
  {
   "cell_type": "code",
   "execution_count": 28,
   "id": "009d290d",
   "metadata": {
    "scrolled": true
   },
   "outputs": [
    {
     "name": "stderr",
     "output_type": "stream",
     "text": [
      "/var/folders/wl/979m696s19n36hpys3mzqq2c0000gn/T/ipykernel_60330/793931282.py:1: SettingWithCopyWarning: \n",
      "A value is trying to be set on a copy of a slice from a DataFrame.\n",
      "Try using .loc[row_indexer,col_indexer] = value instead\n",
      "\n",
      "See the caveats in the documentation: https://pandas.pydata.org/pandas-docs/stable/user_guide/indexing.html#returning-a-view-versus-a-copy\n",
      "  results['立功'] = results['审理意见'].str.contains('立功')\n",
      "/var/folders/wl/979m696s19n36hpys3mzqq2c0000gn/T/ipykernel_60330/793931282.py:2: SettingWithCopyWarning: \n",
      "A value is trying to be set on a copy of a slice from a DataFrame.\n",
      "Try using .loc[row_indexer,col_indexer] = value instead\n",
      "\n",
      "See the caveats in the documentation: https://pandas.pydata.org/pandas-docs/stable/user_guide/indexing.html#returning-a-view-versus-a-copy\n",
      "  results['检举查证属实'] = results['审理意见'].str.contains('检举.*?查证属实')\n",
      "/var/folders/wl/979m696s19n36hpys3mzqq2c0000gn/T/ipykernel_60330/793931282.py:3: SettingWithCopyWarning: \n",
      "A value is trying to be set on a copy of a slice from a DataFrame.\n",
      "Try using .loc[row_indexer,col_indexer] = value instead\n",
      "\n",
      "See the caveats in the documentation: https://pandas.pydata.org/pandas-docs/stable/user_guide/indexing.html#returning-a-view-versus-a-copy\n",
      "  results['揭发'] = results['审理意见'].str.contains('揭发')\n",
      "/var/folders/wl/979m696s19n36hpys3mzqq2c0000gn/T/ipykernel_60330/793931282.py:4: SettingWithCopyWarning: \n",
      "A value is trying to be set on a copy of a slice from a DataFrame.\n",
      "Try using .loc[row_indexer,col_indexer] = value instead\n",
      "\n",
      "See the caveats in the documentation: https://pandas.pydata.org/pandas-docs/stable/user_guide/indexing.html#returning-a-view-versus-a-copy\n",
      "  results['立功不予采纳'] = results['审理意见'].str.contains('立功.*?不予采纳')\n"
     ]
    }
   ],
   "source": [
    "results['立功'] = results['审理意见'].str.contains('立功')\n",
    "results['检举查证属实'] = results['审理意见'].str.contains('检举.*?查证属实')\n",
    "results['揭发'] = results['审理意见'].str.contains('揭发')\n",
    "results['立功不予采纳'] = results['审理意见'].str.contains('立功.*?不予采纳')"
   ]
  },
  {
   "cell_type": "code",
   "execution_count": 31,
   "id": "b8a19b5a",
   "metadata": {},
   "outputs": [
    {
     "name": "stderr",
     "output_type": "stream",
     "text": [
      "/var/folders/wl/979m696s19n36hpys3mzqq2c0000gn/T/ipykernel_60330/2828222799.py:1: SettingWithCopyWarning: \n",
      "A value is trying to be set on a copy of a slice from a DataFrame.\n",
      "Try using .loc[row_indexer,col_indexer] = value instead\n",
      "\n",
      "See the caveats in the documentation: https://pandas.pydata.org/pandas-docs/stable/user_guide/indexing.html#returning-a-view-versus-a-copy\n",
      "  results['认罪态度良好'] = results['审理意见'].str.contains('认罪态度良好')\n",
      "/var/folders/wl/979m696s19n36hpys3mzqq2c0000gn/T/ipykernel_60330/2828222799.py:2: SettingWithCopyWarning: \n",
      "A value is trying to be set on a copy of a slice from a DataFrame.\n",
      "Try using .loc[row_indexer,col_indexer] = value instead\n",
      "\n",
      "See the caveats in the documentation: https://pandas.pydata.org/pandas-docs/stable/user_guide/indexing.html#returning-a-view-versus-a-copy\n",
      "  results['认罪认罚'] = results['审理意见'].str.contains('认罪认罚')\n",
      "/var/folders/wl/979m696s19n36hpys3mzqq2c0000gn/T/ipykernel_60330/2828222799.py:3: SettingWithCopyWarning: \n",
      "A value is trying to be set on a copy of a slice from a DataFrame.\n",
      "Try using .loc[row_indexer,col_indexer] = value instead\n",
      "\n",
      "See the caveats in the documentation: https://pandas.pydata.org/pandas-docs/stable/user_guide/indexing.html#returning-a-view-versus-a-copy\n",
      "  results['当庭认罪'] = results['审理意见'].str.contains('当庭认罪')\n",
      "/var/folders/wl/979m696s19n36hpys3mzqq2c0000gn/T/ipykernel_60330/2828222799.py:4: SettingWithCopyWarning: \n",
      "A value is trying to be set on a copy of a slice from a DataFrame.\n",
      "Try using .loc[row_indexer,col_indexer] = value instead\n",
      "\n",
      "See the caveats in the documentation: https://pandas.pydata.org/pandas-docs/stable/user_guide/indexing.html#returning-a-view-versus-a-copy\n",
      "  results['悔罪'] = results['审理意见'].str.contains('悔罪')\n"
     ]
    }
   ],
   "source": [
    "results['认罪态度良好'] = results['审理意见'].str.contains('认罪态度良好')\n",
    "results['认罪认罚'] = results['审理意见'].str.contains('认罪认罚')\n",
    "results['当庭认罪'] = results['审理意见'].str.contains('当庭认罪')\n",
    "results['悔罪'] = results['审理意见'].str.contains('悔罪')"
   ]
  },
  {
   "cell_type": "code",
   "execution_count": 35,
   "id": "80652976",
   "metadata": {},
   "outputs": [
    {
     "name": "stderr",
     "output_type": "stream",
     "text": [
      "/var/folders/wl/979m696s19n36hpys3mzqq2c0000gn/T/ipykernel_60330/3880369322.py:1: SettingWithCopyWarning: \n",
      "A value is trying to be set on a copy of a slice from a DataFrame.\n",
      "Try using .loc[row_indexer,col_indexer] = value instead\n",
      "\n",
      "See the caveats in the documentation: https://pandas.pydata.org/pandas-docs/stable/user_guide/indexing.html#returning-a-view-versus-a-copy\n",
      "  results['多次索贿'] = results['审理意见'].str.contains('多次索贿')\n"
     ]
    }
   ],
   "source": [
    "results['多次索贿'] = results['审理意见'].str.contains('多次索贿')"
   ]
  },
  {
   "cell_type": "code",
   "execution_count": 38,
   "id": "cbcda226",
   "metadata": {},
   "outputs": [
    {
     "name": "stderr",
     "output_type": "stream",
     "text": [
      "/var/folders/wl/979m696s19n36hpys3mzqq2c0000gn/T/ipykernel_60330/323182187.py:1: SettingWithCopyWarning: \n",
      "A value is trying to be set on a copy of a slice from a DataFrame.\n",
      "Try using .loc[row_indexer,col_indexer] = value instead\n",
      "\n",
      "See the caveats in the documentation: https://pandas.pydata.org/pandas-docs/stable/user_guide/indexing.html#returning-a-view-versus-a-copy\n",
      "  results['致使公共财产、国家和人民利益遭受损失'] = results['审理意见'].str.contains('致使公共财产、国家和人民利益遭受损失')\n"
     ]
    }
   ],
   "source": [
    "#数量过少\n",
    "results['致使公共财产、国家和人民利益遭受损失'] = results['审理意见'].str.contains('致使公共财产、国家和人民利益遭受损失')"
   ]
  },
  {
   "cell_type": "code",
   "execution_count": 40,
   "id": "c8f57db7",
   "metadata": {},
   "outputs": [
    {
     "name": "stderr",
     "output_type": "stream",
     "text": [
      "/var/folders/wl/979m696s19n36hpys3mzqq2c0000gn/T/ipykernel_60330/4023134521.py:1: SettingWithCopyWarning: \n",
      "A value is trying to be set on a copy of a slice from a DataFrame.\n",
      "Try using .loc[row_indexer,col_indexer] = value instead\n",
      "\n",
      "See the caveats in the documentation: https://pandas.pydata.org/pandas-docs/stable/user_guide/indexing.html#returning-a-view-versus-a-copy\n",
      "  results['为他人谋取职务提拔、调整'] = results['审理意见'].str.contains('为他人谋取职务提拔、调整')\n"
     ]
    }
   ],
   "source": [
    "#数量过少\n",
    "results['为他人谋取职务提拔、调整'] = results['审理意见'].str.contains('为他人谋取职务提拔、调整')"
   ]
  },
  {
   "cell_type": "code",
   "execution_count": 42,
   "id": "3143c738",
   "metadata": {},
   "outputs": [
    {
     "name": "stderr",
     "output_type": "stream",
     "text": [
      "/var/folders/wl/979m696s19n36hpys3mzqq2c0000gn/T/ipykernel_60330/3568178619.py:1: SettingWithCopyWarning: \n",
      "A value is trying to be set on a copy of a slice from a DataFrame.\n",
      "Try using .loc[row_indexer,col_indexer] = value instead\n",
      "\n",
      "See the caveats in the documentation: https://pandas.pydata.org/pandas-docs/stable/user_guide/indexing.html#returning-a-view-versus-a-copy\n",
      "  results['曾因受过处分'] = results['审理意见'].str.contains('曾因.*?受过.*?处分')\n"
     ]
    }
   ],
   "source": [
    "#数量过少\n",
    "results['曾因受过处分'] = results['审理意见'].str.contains('曾因.*?受过.*?处分')"
   ]
  },
  {
   "cell_type": "code",
   "execution_count": 44,
   "id": "530fcba6",
   "metadata": {},
   "outputs": [
    {
     "name": "stderr",
     "output_type": "stream",
     "text": [
      "/var/folders/wl/979m696s19n36hpys3mzqq2c0000gn/T/ipykernel_60330/1362444209.py:1: SettingWithCopyWarning: \n",
      "A value is trying to be set on a copy of a slice from a DataFrame.\n",
      "Try using .loc[row_indexer,col_indexer] = value instead\n",
      "\n",
      "See the caveats in the documentation: https://pandas.pydata.org/pandas-docs/stable/user_guide/indexing.html#returning-a-view-versus-a-copy\n",
      "  results['曾因*罪'] = results['审理意见'].str.contains('曾因.*?罪')\n"
     ]
    }
   ],
   "source": [
    "\n",
    "results['曾因*罪'] = results['审理意见'].str.contains('曾因.*?罪')"
   ]
  },
  {
   "cell_type": "code",
   "execution_count": 49,
   "id": "39f826de",
   "metadata": {},
   "outputs": [
    {
     "name": "stderr",
     "output_type": "stream",
     "text": [
      "/var/folders/wl/979m696s19n36hpys3mzqq2c0000gn/T/ipykernel_60330/2869932160.py:1: SettingWithCopyWarning: \n",
      "A value is trying to be set on a copy of a slice from a DataFrame.\n",
      "Try using .loc[row_indexer,col_indexer] = value instead\n",
      "\n",
      "See the caveats in the documentation: https://pandas.pydata.org/pandas-docs/stable/user_guide/indexing.html#returning-a-view-versus-a-copy\n",
      "  results['赃款赃物用于非法活动'] = results['审理意见'].str.contains('赃款赃物用于非法活动')\n",
      "/var/folders/wl/979m696s19n36hpys3mzqq2c0000gn/T/ipykernel_60330/2869932160.py:2: SettingWithCopyWarning: \n",
      "A value is trying to be set on a copy of a slice from a DataFrame.\n",
      "Try using .loc[row_indexer,col_indexer] = value instead\n",
      "\n",
      "See the caveats in the documentation: https://pandas.pydata.org/pandas-docs/stable/user_guide/indexing.html#returning-a-view-versus-a-copy\n",
      "  results['无法追缴'] = results['审理意见'].str.contains('无法追缴')\n"
     ]
    }
   ],
   "source": [
    "\n",
    "results['赃款赃物用于非法活动'] = results['审理意见'].str.contains('赃款赃物用于非法活动')\n",
    "results['无法追缴'] = results['审理意见'].str.contains('无法追缴')"
   ]
  },
  {
   "cell_type": "code",
   "execution_count": 51,
   "id": "4f1e66fa",
   "metadata": {},
   "outputs": [
    {
     "name": "stderr",
     "output_type": "stream",
     "text": [
      "/var/folders/wl/979m696s19n36hpys3mzqq2c0000gn/T/ipykernel_60330/2498982572.py:1: SettingWithCopyWarning: \n",
      "A value is trying to be set on a copy of a slice from a DataFrame.\n",
      "Try using .loc[row_indexer,col_indexer] = value instead\n",
      "\n",
      "See the caveats in the documentation: https://pandas.pydata.org/pandas-docs/stable/user_guide/indexing.html#returning-a-view-versus-a-copy\n",
      "  results['造成恶劣影响'] = results['审理意见'].str.contains('造成恶劣影响')\n",
      "/var/folders/wl/979m696s19n36hpys3mzqq2c0000gn/T/ipykernel_60330/2498982572.py:2: SettingWithCopyWarning: \n",
      "A value is trying to be set on a copy of a slice from a DataFrame.\n",
      "Try using .loc[row_indexer,col_indexer] = value instead\n",
      "\n",
      "See the caveats in the documentation: https://pandas.pydata.org/pandas-docs/stable/user_guide/indexing.html#returning-a-view-versus-a-copy\n",
      "  results['造成严重后果'] = results['审理意见'].str.contains('造成严重后果')\n"
     ]
    }
   ],
   "source": [
    "results['造成恶劣影响'] = results['审理意见'].str.contains('造成恶劣影响')\n",
    "results['造成严重后果'] = results['审理意见'].str.contains('造成严重后果')\n"
   ]
  },
  {
   "cell_type": "code",
   "execution_count": 54,
   "id": "353026e8",
   "metadata": {},
   "outputs": [
    {
     "name": "stderr",
     "output_type": "stream",
     "text": [
      "/var/folders/wl/979m696s19n36hpys3mzqq2c0000gn/T/ipykernel_60330/1396560099.py:1: SettingWithCopyWarning: \n",
      "A value is trying to be set on a copy of a slice from a DataFrame.\n",
      "Try using .loc[row_indexer,col_indexer] = value instead\n",
      "\n",
      "See the caveats in the documentation: https://pandas.pydata.org/pandas-docs/stable/user_guide/indexing.html#returning-a-view-versus-a-copy\n",
      "  results['通过其他国家工作人员职务上的行为'] = results['审理意见'].str.contains('通过其他国家工作人员职务上的行为')\n"
     ]
    }
   ],
   "source": [
    "results['通过其他国家工作人员职务上的行为'] = results['审理意见'].str.contains('通过其他国家工作人员职务上的行为')"
   ]
  },
  {
   "cell_type": "code",
   "execution_count": 56,
   "id": "5a796e2c",
   "metadata": {},
   "outputs": [],
   "source": [
    "results.to_excel(\"results.xlsx\")\n",
    "results.describe().to_excel(\"results_des.xlsx\")"
   ]
  },
  {
   "cell_type": "code",
   "execution_count": 58,
   "id": "13a9d51a",
   "metadata": {},
   "outputs": [
    {
     "data": {
      "text/html": [
       "<div>\n",
       "<style scoped>\n",
       "    .dataframe tbody tr th:only-of-type {\n",
       "        vertical-align: middle;\n",
       "    }\n",
       "\n",
       "    .dataframe tbody tr th {\n",
       "        vertical-align: top;\n",
       "    }\n",
       "\n",
       "    .dataframe thead th {\n",
       "        text-align: right;\n",
       "    }\n",
       "</style>\n",
       "<table border=\"1\" class=\"dataframe\">\n",
       "  <thead>\n",
       "    <tr style=\"text-align: right;\">\n",
       "      <th></th>\n",
       "      <th>事实认定</th>\n",
       "      <th>审理意见</th>\n",
       "      <th>判决结果</th>\n",
       "      <th>国家工作人员</th>\n",
       "      <th>退赃</th>\n",
       "      <th>自首</th>\n",
       "      <th>不构成自首</th>\n",
       "      <th>坦白</th>\n",
       "      <th>如实供述</th>\n",
       "      <th>主动交代</th>\n",
       "      <th>...</th>\n",
       "      <th>多次索贿</th>\n",
       "      <th>致使公共财产、国家和人民利益遭受损失</th>\n",
       "      <th>为他人谋取职务提拔、调整</th>\n",
       "      <th>曾因受过处分</th>\n",
       "      <th>曾因*罪</th>\n",
       "      <th>赃款赃物用于非法活动</th>\n",
       "      <th>无法追缴</th>\n",
       "      <th>造成恶劣影响</th>\n",
       "      <th>造成严重后果</th>\n",
       "      <th>通过其他国家工作人员职务上的行为</th>\n",
       "    </tr>\n",
       "  </thead>\n",
       "  <tbody>\n",
       "    <tr>\n",
       "      <th>11303.txt</th>\n",
       "      <td>，被告人王某甲在担任盐城市盐都区龙冈镇副镇长、盐城市盐都区农村经济开发区管委会副主任期间，于...</td>\n",
       "      <td>，被告人王某甲身为国家工作人员，利用职务上的便利，非法收受他人财物，数额巨大，为他人谋取利益...</td>\n",
       "      <td>：一、被告人王某甲犯受贿罪，判处有期徒刑三年，并处罚金人民币三十万元。（刑期从判决执行之日起...</td>\n",
       "      <td>True</td>\n",
       "      <td>True</td>\n",
       "      <td>False</td>\n",
       "      <td>False</td>\n",
       "      <td>False</td>\n",
       "      <td>True</td>\n",
       "      <td>False</td>\n",
       "      <td>...</td>\n",
       "      <td>False</td>\n",
       "      <td>False</td>\n",
       "      <td>False</td>\n",
       "      <td>False</td>\n",
       "      <td>False</td>\n",
       "      <td>False</td>\n",
       "      <td>False</td>\n",
       "      <td>False</td>\n",
       "      <td>False</td>\n",
       "      <td>False</td>\n",
       "    </tr>\n",
       "    <tr>\n",
       "      <th>3644.txt</th>\n",
       "      <td>，2007年至2011年间，被告人卓天双利用其担任桐林监狱监狱长的职务便利，在桐林监狱迁建梧...</td>\n",
       "      <td>，被告人卓天双身为国家工作人员，利用职务上的便利，非法收受他人人民币41万元，为他人谋取利益...</td>\n",
       "      <td>：一、被告人卓天双犯受贿罪，判处有期徒刑三年三个月，并处罚金人民币二十八万元；（刑期从判决执...</td>\n",
       "      <td>True</td>\n",
       "      <td>False</td>\n",
       "      <td>False</td>\n",
       "      <td>False</td>\n",
       "      <td>False</td>\n",
       "      <td>False</td>\n",
       "      <td>False</td>\n",
       "      <td>...</td>\n",
       "      <td>False</td>\n",
       "      <td>False</td>\n",
       "      <td>False</td>\n",
       "      <td>False</td>\n",
       "      <td>False</td>\n",
       "      <td>False</td>\n",
       "      <td>False</td>\n",
       "      <td>False</td>\n",
       "      <td>False</td>\n",
       "      <td>False</td>\n",
       "    </tr>\n",
       "    <tr>\n",
       "      <th>18441.txt</th>\n",
       "      <td>，一、被告人谢飞军在担任浙江师范大学杭州幼儿师范学院副院长及浙江师范大学杭州校区管理办公室副...</td>\n",
       "      <td>，被告人谢飞军系国家工作人员，利用职务上的便利，非法收受他人财物，为他人谋取利益，其行为已构...</td>\n",
       "      <td>：一、被告人谢飞军犯受贿罪，判处有期徒刑十年，并处没收财产人民币20000元（刑期从判决执行...</td>\n",
       "      <td>False</td>\n",
       "      <td>False</td>\n",
       "      <td>False</td>\n",
       "      <td>False</td>\n",
       "      <td>False</td>\n",
       "      <td>True</td>\n",
       "      <td>False</td>\n",
       "      <td>...</td>\n",
       "      <td>False</td>\n",
       "      <td>False</td>\n",
       "      <td>False</td>\n",
       "      <td>False</td>\n",
       "      <td>False</td>\n",
       "      <td>False</td>\n",
       "      <td>False</td>\n",
       "      <td>False</td>\n",
       "      <td>False</td>\n",
       "      <td>False</td>\n",
       "    </tr>\n",
       "    <tr>\n",
       "      <th>5235.txt</th>\n",
       "      <td>：2013年11月至案发，被告人龙开泉担任雅安市名山区水务局局长。龙开泉在其任职期间，利用职...</td>\n",
       "      <td>，被告人龙开泉身为国家工作人员，利用职务之便，非法收受他人财物230万元，数额巨大，并为他人...</td>\n",
       "      <td>：一、被告人龙开泉犯受贿罪，判处有期徒刑七年，并处罚金人民币三十万元。（刑期自判决执行之日起...</td>\n",
       "      <td>True</td>\n",
       "      <td>False</td>\n",
       "      <td>False</td>\n",
       "      <td>False</td>\n",
       "      <td>False</td>\n",
       "      <td>False</td>\n",
       "      <td>True</td>\n",
       "      <td>...</td>\n",
       "      <td>False</td>\n",
       "      <td>False</td>\n",
       "      <td>False</td>\n",
       "      <td>False</td>\n",
       "      <td>False</td>\n",
       "      <td>False</td>\n",
       "      <td>False</td>\n",
       "      <td>False</td>\n",
       "      <td>False</td>\n",
       "      <td>False</td>\n",
       "    </tr>\n",
       "    <tr>\n",
       "      <th>1053.txt</th>\n",
       "      <td>：2011年冬季征兵期间，刘绪树为了让其子刘晓龙顺利入伍，在被告人翟某办公室送给翟某人民币现...</td>\n",
       "      <td>，被告人翟某身为鄂州市梁子湖区梁子镇党委委员、武装部长，在其负责梁子镇征兵过程中，利用职务便...</td>\n",
       "      <td>：被告人翟某犯受贿罪，判处免予刑事处罚。如不服本判决，可在接到判决书的第二日起十日内，通过本...</td>\n",
       "      <td>True</td>\n",
       "      <td>True</td>\n",
       "      <td>True</td>\n",
       "      <td>False</td>\n",
       "      <td>False</td>\n",
       "      <td>False</td>\n",
       "      <td>True</td>\n",
       "      <td>...</td>\n",
       "      <td>False</td>\n",
       "      <td>False</td>\n",
       "      <td>False</td>\n",
       "      <td>False</td>\n",
       "      <td>False</td>\n",
       "      <td>False</td>\n",
       "      <td>False</td>\n",
       "      <td>False</td>\n",
       "      <td>False</td>\n",
       "      <td>False</td>\n",
       "    </tr>\n",
       "  </tbody>\n",
       "</table>\n",
       "<p>5 rows × 28 columns</p>\n",
       "</div>"
      ],
      "text/plain": [
       "                                                        事实认定  \\\n",
       "11303.txt  ，被告人王某甲在担任盐城市盐都区龙冈镇副镇长、盐城市盐都区农村经济开发区管委会副主任期间，于...   \n",
       "3644.txt   ，2007年至2011年间，被告人卓天双利用其担任桐林监狱监狱长的职务便利，在桐林监狱迁建梧...   \n",
       "18441.txt  ，一、被告人谢飞军在担任浙江师范大学杭州幼儿师范学院副院长及浙江师范大学杭州校区管理办公室副...   \n",
       "5235.txt   ：2013年11月至案发，被告人龙开泉担任雅安市名山区水务局局长。龙开泉在其任职期间，利用职...   \n",
       "1053.txt   ：2011年冬季征兵期间，刘绪树为了让其子刘晓龙顺利入伍，在被告人翟某办公室送给翟某人民币现...   \n",
       "\n",
       "                                                        审理意见  \\\n",
       "11303.txt  ，被告人王某甲身为国家工作人员，利用职务上的便利，非法收受他人财物，数额巨大，为他人谋取利益...   \n",
       "3644.txt   ，被告人卓天双身为国家工作人员，利用职务上的便利，非法收受他人人民币41万元，为他人谋取利益...   \n",
       "18441.txt  ，被告人谢飞军系国家工作人员，利用职务上的便利，非法收受他人财物，为他人谋取利益，其行为已构...   \n",
       "5235.txt   ，被告人龙开泉身为国家工作人员，利用职务之便，非法收受他人财物230万元，数额巨大，并为他人...   \n",
       "1053.txt   ，被告人翟某身为鄂州市梁子湖区梁子镇党委委员、武装部长，在其负责梁子镇征兵过程中，利用职务便...   \n",
       "\n",
       "                                                        判决结果  国家工作人员     退赃  \\\n",
       "11303.txt  ：一、被告人王某甲犯受贿罪，判处有期徒刑三年，并处罚金人民币三十万元。（刑期从判决执行之日起...    True   True   \n",
       "3644.txt   ：一、被告人卓天双犯受贿罪，判处有期徒刑三年三个月，并处罚金人民币二十八万元；（刑期从判决执...    True  False   \n",
       "18441.txt  ：一、被告人谢飞军犯受贿罪，判处有期徒刑十年，并处没收财产人民币20000元（刑期从判决执行...   False  False   \n",
       "5235.txt   ：一、被告人龙开泉犯受贿罪，判处有期徒刑七年，并处罚金人民币三十万元。（刑期自判决执行之日起...    True  False   \n",
       "1053.txt   ：被告人翟某犯受贿罪，判处免予刑事处罚。如不服本判决，可在接到判决书的第二日起十日内，通过本...    True   True   \n",
       "\n",
       "              自首  不构成自首     坦白   如实供述   主动交代  ...   多次索贿  致使公共财产、国家和人民利益遭受损失  \\\n",
       "11303.txt  False  False  False   True  False  ...  False               False   \n",
       "3644.txt   False  False  False  False  False  ...  False               False   \n",
       "18441.txt  False  False  False   True  False  ...  False               False   \n",
       "5235.txt   False  False  False  False   True  ...  False               False   \n",
       "1053.txt    True  False  False  False   True  ...  False               False   \n",
       "\n",
       "           为他人谋取职务提拔、调整  曾因受过处分   曾因*罪  赃款赃物用于非法活动   无法追缴  造成恶劣影响  造成严重后果  \\\n",
       "11303.txt         False   False  False       False  False   False   False   \n",
       "3644.txt          False   False  False       False  False   False   False   \n",
       "18441.txt         False   False  False       False  False   False   False   \n",
       "5235.txt          False   False  False       False  False   False   False   \n",
       "1053.txt          False   False  False       False  False   False   False   \n",
       "\n",
       "           通过其他国家工作人员职务上的行为  \n",
       "11303.txt             False  \n",
       "3644.txt              False  \n",
       "18441.txt             False  \n",
       "5235.txt              False  \n",
       "1053.txt              False  \n",
       "\n",
       "[5 rows x 28 columns]"
      ]
     },
     "execution_count": 58,
     "metadata": {},
     "output_type": "execute_result"
    }
   ],
   "source": [
    "results.head(5)"
   ]
  }
 ],
 "metadata": {
  "kernelspec": {
   "display_name": "Python 3.9.7 ('base')",
   "language": "python",
   "name": "python3"
  },
  "language_info": {
   "codemirror_mode": {
    "name": "ipython",
    "version": 3
   },
   "file_extension": ".py",
   "mimetype": "text/x-python",
   "name": "python",
   "nbconvert_exporter": "python",
   "pygments_lexer": "ipython3",
   "version": "3.9.7"
  },
  "vscode": {
   "interpreter": {
    "hash": "91a314fe8294e1a305f1e19833a48c0376e70f37ff18b9e82d8cfb33f29e10ef"
   }
  }
 },
 "nbformat": 4,
 "nbformat_minor": 5
}
