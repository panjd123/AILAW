{
 "cells": [
  {
   "cell_type": "code",
   "execution_count": 2,
   "id": "abbcff1d",
   "metadata": {},
   "outputs": [],
   "source": [
    "import pandas as pd\n",
    "import numpy as np\n",
    "import re\n",
    "import os"
   ]
  },
  {
   "cell_type": "code",
   "execution_count": 2,
   "id": "6186d5d0",
   "metadata": {},
   "outputs": [],
   "source": [
    "file_list = list(os.listdir('/Users/sitongli/Desktop/law/bribe_data/'))\n",
    "file_list.remove('.DS_Store')"
   ]
  },
  {
   "cell_type": "code",
   "execution_count": 3,
   "id": "79f98479",
   "metadata": {},
   "outputs": [],
   "source": [
    "results = pd.DataFrame(index = file_list)"
   ]
  },
  {
   "cell_type": "code",
   "execution_count": 4,
   "id": "4b0f318f",
   "metadata": {},
   "outputs": [
    {
     "name": "stderr",
     "output_type": "stream",
     "text": [
      "/var/folders/wl/979m696s19n36hpys3mzqq2c0000gn/T/ipykernel_61228/357701048.py:1: DeprecationWarning: The default dtype for empty Series will be 'object' instead of 'float64' in a future version. Specify a dtype explicitly to silence this warning.\n",
      "  results['事实认定'] = pd.Series()\n",
      "/var/folders/wl/979m696s19n36hpys3mzqq2c0000gn/T/ipykernel_61228/357701048.py:2: DeprecationWarning: The default dtype for empty Series will be 'object' instead of 'float64' in a future version. Specify a dtype explicitly to silence this warning.\n",
      "  results['审理意见'] = pd.Series()\n",
      "/var/folders/wl/979m696s19n36hpys3mzqq2c0000gn/T/ipykernel_61228/357701048.py:3: DeprecationWarning: The default dtype for empty Series will be 'object' instead of 'float64' in a future version. Specify a dtype explicitly to silence this warning.\n",
      "  results['判决结果'] = pd.Series()\n",
      "/opt/anaconda3/lib/python3.9/site-packages/pandas/core/indexing.py:1732: SettingWithCopyWarning: \n",
      "A value is trying to be set on a copy of a slice from a DataFrame\n",
      "\n",
      "See the caveats in the documentation: https://pandas.pydata.org/pandas-docs/stable/user_guide/indexing.html#returning-a-view-versus-a-copy\n",
      "  self._setitem_single_block(indexer, value, name)\n"
     ]
    }
   ],
   "source": [
    "results['事实认定'] = pd.Series()\n",
    "results['审理意见'] = pd.Series()\n",
    "results['判决结果'] = pd.Series()\n",
    "for i in range(len(results)):\n",
    "    with open('/Users/sitongli/Desktop/law/bribe_data/'+results.index[i],'r+',encoding='utf8') as f:\n",
    "        content = f.read()\n",
    "        if len(re.findall('经审理查明(.*?)本院认为',content,re.S)) !=0:\n",
    "            results['事实认定'].iloc[i] =  re.findall('经审理查明(.*?)本院认为',content,re.S)[0]\n",
    "        if len(re.findall('本院认为(.*?)判决如下',content,re.S)) !=0:\n",
    "            results['审理意见'].iloc[i] =  re.findall('本院认为(.*?)判决如下',content,re.S)[0]\n",
    "        if len(re.findall('判决如下(.*?)审判长',content,re.S)) !=0:\n",
    "            results['判决结果'].iloc[i] =  re.findall('判决如下(.*?)审判长',content,re.S)[0]\n",
    "\n",
    "        "
   ]
  },
  {
   "cell_type": "code",
   "execution_count": 5,
   "id": "643d3704",
   "metadata": {},
   "outputs": [],
   "source": [
    "results = results.dropna()"
   ]
  },
  {
   "cell_type": "code",
   "execution_count": 19,
   "id": "6f0d950d",
   "metadata": {},
   "outputs": [],
   "source": [
    "results = pd.read_csv('res.csv',index_col=0)"
   ]
  },
  {
   "cell_type": "code",
   "execution_count": 20,
   "id": "b0f8cf02",
   "metadata": {},
   "outputs": [
    {
     "data": {
      "text/plain": [
       "3399"
      ]
     },
     "execution_count": 20,
     "metadata": {},
     "output_type": "execute_result"
    }
   ],
   "source": [
    "#有效\n",
    "results['退赃'] = results['事实认定'].str.contains('退赃')\n",
    "results['退赃'].sum()"
   ]
  },
  {
   "cell_type": "code",
   "execution_count": 21,
   "id": "00875944",
   "metadata": {},
   "outputs": [
    {
     "data": {
      "text/plain": [
       "2732"
      ]
     },
     "execution_count": 21,
     "metadata": {},
     "output_type": "execute_result"
    }
   ],
   "source": [
    "results['自首'] = results['事实认定'].str.contains('自首')\n",
    "results['自首'].sum()"
   ]
  },
  {
   "cell_type": "code",
   "execution_count": 22,
   "id": "467ca1e6",
   "metadata": {},
   "outputs": [
    {
     "data": {
      "text/plain": [
       "372"
      ]
     },
     "execution_count": 22,
     "metadata": {},
     "output_type": "execute_result"
    }
   ],
   "source": [
    "results['不构成自首'] = results['审理意见'].str.contains('不构成自首')\n",
    "results['不构成自首'].sum()"
   ]
  },
  {
   "cell_type": "code",
   "execution_count": 23,
   "id": "672a1382",
   "metadata": {},
   "outputs": [],
   "source": [
    "results['坦白'] = results['事实认定'].str.contains('坦白')\n",
    "results['如实供述'] = results['事实认定'].str.contains('如实供述')\n",
    "results['主动交代'] = results['事实认定'].str.contains('主动交代')"
   ]
  },
  {
   "cell_type": "code",
   "execution_count": 24,
   "id": "009d290d",
   "metadata": {
    "scrolled": true
   },
   "outputs": [],
   "source": [
    "results['立功'] = results['审理意见'].str.contains('立功')\n",
    "results['检举查证属实'] = results['审理意见'].str.contains('检举.*?查证属实')\n",
    "results['揭发'] = results['审理意见'].str.contains('揭发')\n",
    "results['立功不予采纳'] = results['审理意见'].str.contains('立功.*?不予采纳')"
   ]
  },
  {
   "cell_type": "code",
   "execution_count": 25,
   "id": "b8a19b5a",
   "metadata": {},
   "outputs": [],
   "source": [
    "results['认罪态度良好'] = results['审理意见'].str.contains('认罪态度良好')\n",
    "results['认罪认罚'] = results['审理意见'].str.contains('认罪认罚')\n",
    "results['当庭认罪'] = results['审理意见'].str.contains('当庭认罪')\n",
    "results['悔罪'] = results['审理意见'].str.contains('悔罪')"
   ]
  },
  {
   "cell_type": "code",
   "execution_count": 26,
   "id": "80652976",
   "metadata": {},
   "outputs": [],
   "source": [
    "results['多次索贿'] = results['审理意见'].str.contains('多次索贿')"
   ]
  },
  {
   "cell_type": "code",
   "execution_count": 27,
   "id": "cbcda226",
   "metadata": {},
   "outputs": [],
   "source": [
    "#数量过少\n",
    "results['致使公共财产、国家和人民利益遭受损失'] = results['审理意见'].str.contains('致使公共财产、国家和人民利益遭受损失')"
   ]
  },
  {
   "cell_type": "code",
   "execution_count": 28,
   "id": "c8f57db7",
   "metadata": {},
   "outputs": [],
   "source": [
    "#数量过少\n",
    "results['为他人谋取职务提拔、调整'] = results['审理意见'].str.contains('为他人谋取职务提拔、调整')"
   ]
  },
  {
   "cell_type": "code",
   "execution_count": 29,
   "id": "3143c738",
   "metadata": {},
   "outputs": [],
   "source": [
    "#数量过少\n",
    "results['曾因受过处分'] = results['审理意见'].str.contains('曾因.*?受过.*?处分')"
   ]
  },
  {
   "cell_type": "code",
   "execution_count": 30,
   "id": "530fcba6",
   "metadata": {},
   "outputs": [],
   "source": [
    "\n",
    "results['曾因*罪'] = results['审理意见'].str.contains('曾因.*?罪')"
   ]
  },
  {
   "cell_type": "code",
   "execution_count": 31,
   "id": "39f826de",
   "metadata": {},
   "outputs": [],
   "source": [
    "\n",
    "results['赃款赃物用于非法活动'] = results['审理意见'].str.contains('赃款赃物用于非法活动')\n",
    "results['无法追缴'] = results['审理意见'].str.contains('无法追缴')"
   ]
  },
  {
   "cell_type": "code",
   "execution_count": 32,
   "id": "4f1e66fa",
   "metadata": {},
   "outputs": [],
   "source": [
    "results['造成恶劣影响'] = results['审理意见'].str.contains('造成恶劣影响')\n",
    "results['造成严重后果'] = results['审理意见'].str.contains('造成严重后果')\n"
   ]
  },
  {
   "cell_type": "code",
   "execution_count": 33,
   "id": "353026e8",
   "metadata": {},
   "outputs": [],
   "source": [
    "results['通过其他国家工作人员职务上的行为'] = results['审理意见'].str.contains('通过其他国家工作人员职务上的行为')"
   ]
  },
  {
   "cell_type": "code",
   "execution_count": 34,
   "id": "5a796e2c",
   "metadata": {},
   "outputs": [
    {
     "ename": "KeyboardInterrupt",
     "evalue": "",
     "output_type": "error",
     "traceback": [
      "\u001b[1;31m---------------------------------------------------------------------------\u001b[0m",
      "\u001b[1;31mKeyboardInterrupt\u001b[0m                         Traceback (most recent call last)",
      "\u001b[1;32mc:\\Codes\\AILAW\\标签.ipynb Cell 21\u001b[0m in \u001b[0;36m<cell line: 1>\u001b[1;34m()\u001b[0m\n\u001b[1;32m----> <a href='vscode-notebook-cell:/c%3A/Codes/AILAW/%E6%A0%87%E7%AD%BE.ipynb#X26sZmlsZQ%3D%3D?line=0'>1</a>\u001b[0m results\u001b[39m.\u001b[39;49mto_excel(\u001b[39m\"\u001b[39;49m\u001b[39mresults.xlsx\u001b[39;49m\u001b[39m\"\u001b[39;49m)\n\u001b[0;32m      <a href='vscode-notebook-cell:/c%3A/Codes/AILAW/%E6%A0%87%E7%AD%BE.ipynb#X26sZmlsZQ%3D%3D?line=1'>2</a>\u001b[0m results\u001b[39m.\u001b[39mdescribe()\u001b[39m.\u001b[39mto_excel(\u001b[39m\"\u001b[39m\u001b[39mresults_des.xlsx\u001b[39m\u001b[39m\"\u001b[39m)\n",
      "File \u001b[1;32m~\\anaconda3\\lib\\site-packages\\pandas\\core\\generic.py:2345\u001b[0m, in \u001b[0;36mNDFrame.to_excel\u001b[1;34m(self, excel_writer, sheet_name, na_rep, float_format, columns, header, index, index_label, startrow, startcol, engine, merge_cells, encoding, inf_rep, verbose, freeze_panes, storage_options)\u001b[0m\n\u001b[0;32m   2332\u001b[0m \u001b[39mfrom\u001b[39;00m \u001b[39mpandas\u001b[39;00m\u001b[39m.\u001b[39;00m\u001b[39mio\u001b[39;00m\u001b[39m.\u001b[39;00m\u001b[39mformats\u001b[39;00m\u001b[39m.\u001b[39;00m\u001b[39mexcel\u001b[39;00m \u001b[39mimport\u001b[39;00m ExcelFormatter\n\u001b[0;32m   2334\u001b[0m formatter \u001b[39m=\u001b[39m ExcelFormatter(\n\u001b[0;32m   2335\u001b[0m     df,\n\u001b[0;32m   2336\u001b[0m     na_rep\u001b[39m=\u001b[39mna_rep,\n\u001b[1;32m   (...)\u001b[0m\n\u001b[0;32m   2343\u001b[0m     inf_rep\u001b[39m=\u001b[39minf_rep,\n\u001b[0;32m   2344\u001b[0m )\n\u001b[1;32m-> 2345\u001b[0m formatter\u001b[39m.\u001b[39;49mwrite(\n\u001b[0;32m   2346\u001b[0m     excel_writer,\n\u001b[0;32m   2347\u001b[0m     sheet_name\u001b[39m=\u001b[39;49msheet_name,\n\u001b[0;32m   2348\u001b[0m     startrow\u001b[39m=\u001b[39;49mstartrow,\n\u001b[0;32m   2349\u001b[0m     startcol\u001b[39m=\u001b[39;49mstartcol,\n\u001b[0;32m   2350\u001b[0m     freeze_panes\u001b[39m=\u001b[39;49mfreeze_panes,\n\u001b[0;32m   2351\u001b[0m     engine\u001b[39m=\u001b[39;49mengine,\n\u001b[0;32m   2352\u001b[0m     storage_options\u001b[39m=\u001b[39;49mstorage_options,\n\u001b[0;32m   2353\u001b[0m )\n",
      "File \u001b[1;32m~\\anaconda3\\lib\\site-packages\\pandas\\io\\formats\\excel.py:894\u001b[0m, in \u001b[0;36mExcelFormatter.write\u001b[1;34m(self, writer, sheet_name, startrow, startcol, freeze_panes, engine, storage_options)\u001b[0m\n\u001b[0;32m    891\u001b[0m     need_save \u001b[39m=\u001b[39m \u001b[39mTrue\u001b[39;00m\n\u001b[0;32m    893\u001b[0m \u001b[39mtry\u001b[39;00m:\n\u001b[1;32m--> 894\u001b[0m     writer\u001b[39m.\u001b[39;49mwrite_cells(\n\u001b[0;32m    895\u001b[0m         formatted_cells,\n\u001b[0;32m    896\u001b[0m         sheet_name,\n\u001b[0;32m    897\u001b[0m         startrow\u001b[39m=\u001b[39;49mstartrow,\n\u001b[0;32m    898\u001b[0m         startcol\u001b[39m=\u001b[39;49mstartcol,\n\u001b[0;32m    899\u001b[0m         freeze_panes\u001b[39m=\u001b[39;49mfreeze_panes,\n\u001b[0;32m    900\u001b[0m     )\n\u001b[0;32m    901\u001b[0m \u001b[39mfinally\u001b[39;00m:\n\u001b[0;32m    902\u001b[0m     \u001b[39m# make sure to close opened file handles\u001b[39;00m\n\u001b[0;32m    903\u001b[0m     \u001b[39mif\u001b[39;00m need_save:\n",
      "File \u001b[1;32m~\\anaconda3\\lib\\site-packages\\pandas\\io\\excel\\_xlsxwriter.py:227\u001b[0m, in \u001b[0;36mXlsxWriter.write_cells\u001b[1;34m(self, cells, sheet_name, startrow, startcol, freeze_panes)\u001b[0m\n\u001b[0;32m    224\u001b[0m \u001b[39mif\u001b[39;00m validate_freeze_panes(freeze_panes):\n\u001b[0;32m    225\u001b[0m     wks\u001b[39m.\u001b[39mfreeze_panes(\u001b[39m*\u001b[39m(freeze_panes))\n\u001b[1;32m--> 227\u001b[0m \u001b[39mfor\u001b[39;00m cell \u001b[39min\u001b[39;00m cells:\n\u001b[0;32m    228\u001b[0m     val, fmt \u001b[39m=\u001b[39m \u001b[39mself\u001b[39m\u001b[39m.\u001b[39m_value_with_fmt(cell\u001b[39m.\u001b[39mval)\n\u001b[0;32m    230\u001b[0m     stylekey \u001b[39m=\u001b[39m json\u001b[39m.\u001b[39mdumps(cell\u001b[39m.\u001b[39mstyle)\n",
      "File \u001b[1;32m~\\anaconda3\\lib\\site-packages\\pandas\\io\\formats\\excel.py:831\u001b[0m, in \u001b[0;36mExcelFormatter.get_formatted_cells\u001b[1;34m(self)\u001b[0m\n\u001b[0;32m    830\u001b[0m \u001b[39mdef\u001b[39;00m \u001b[39mget_formatted_cells\u001b[39m(\u001b[39mself\u001b[39m) \u001b[39m-\u001b[39m\u001b[39m>\u001b[39m Iterable[ExcelCell]:\n\u001b[1;32m--> 831\u001b[0m     \u001b[39mfor\u001b[39;00m cell \u001b[39min\u001b[39;00m itertools\u001b[39m.\u001b[39mchain(\u001b[39mself\u001b[39m\u001b[39m.\u001b[39m_format_header(), \u001b[39mself\u001b[39m\u001b[39m.\u001b[39m_format_body()):\n\u001b[0;32m    832\u001b[0m         cell\u001b[39m.\u001b[39mval \u001b[39m=\u001b[39m \u001b[39mself\u001b[39m\u001b[39m.\u001b[39m_format_value(cell\u001b[39m.\u001b[39mval)\n\u001b[0;32m    833\u001b[0m         \u001b[39myield\u001b[39;00m cell\n",
      "File \u001b[1;32m~\\anaconda3\\lib\\site-packages\\pandas\\io\\formats\\excel.py:726\u001b[0m, in \u001b[0;36mExcelFormatter._format_regular_rows\u001b[1;34m(self)\u001b[0m\n\u001b[0;32m    723\u001b[0m \u001b[39melse\u001b[39;00m:\n\u001b[0;32m    724\u001b[0m     coloffset \u001b[39m=\u001b[39m \u001b[39m0\u001b[39m\n\u001b[1;32m--> 726\u001b[0m \u001b[39myield from\u001b[39;00m \u001b[39mself\u001b[39m\u001b[39m.\u001b[39m_generate_body(coloffset)\n",
      "File \u001b[1;32m~\\anaconda3\\lib\\site-packages\\pandas\\io\\formats\\excel.py:824\u001b[0m, in \u001b[0;36mExcelFormatter._generate_body\u001b[1;34m(self, coloffset)\u001b[0m\n\u001b[0;32m    817\u001b[0m series \u001b[39m=\u001b[39m \u001b[39mself\u001b[39m\u001b[39m.\u001b[39mdf\u001b[39m.\u001b[39miloc[:, colidx]\n\u001b[0;32m    818\u001b[0m \u001b[39mfor\u001b[39;00m i, val \u001b[39min\u001b[39;00m \u001b[39menumerate\u001b[39m(series):\n\u001b[0;32m    819\u001b[0m     \u001b[39myield\u001b[39;00m CssExcelCell(\n\u001b[0;32m    820\u001b[0m         row\u001b[39m=\u001b[39m\u001b[39mself\u001b[39m\u001b[39m.\u001b[39mrowcounter \u001b[39m+\u001b[39m i,\n\u001b[0;32m    821\u001b[0m         col\u001b[39m=\u001b[39mcolidx \u001b[39m+\u001b[39m coloffset,\n\u001b[0;32m    822\u001b[0m         val\u001b[39m=\u001b[39mval,\n\u001b[0;32m    823\u001b[0m         style\u001b[39m=\u001b[39m\u001b[39mNone\u001b[39;00m,\n\u001b[1;32m--> 824\u001b[0m         css_styles\u001b[39m=\u001b[39m\u001b[39mgetattr\u001b[39m(\u001b[39mself\u001b[39;49m\u001b[39m.\u001b[39;49mstyler, \u001b[39m\"\u001b[39m\u001b[39mctx\u001b[39m\u001b[39m\"\u001b[39m, \u001b[39mNone\u001b[39;00m),\n\u001b[0;32m    825\u001b[0m         css_row\u001b[39m=\u001b[39mi,\n\u001b[0;32m    826\u001b[0m         css_col\u001b[39m=\u001b[39mcolidx,\n\u001b[0;32m    827\u001b[0m         css_converter\u001b[39m=\u001b[39m\u001b[39mself\u001b[39m\u001b[39m.\u001b[39mstyle_converter,\n\u001b[0;32m    828\u001b[0m     )\n",
      "\u001b[1;31mKeyboardInterrupt\u001b[0m: "
     ]
    }
   ],
   "source": [
    "results.to_excel(\"results.xlsx\")\n",
    "results.describe().to_excel(\"results_des.xlsx\")"
   ]
  },
  {
   "cell_type": "code",
   "execution_count": 35,
   "id": "13a9d51a",
   "metadata": {},
   "outputs": [
    {
     "data": {
      "text/html": [
       "<div>\n",
       "<style scoped>\n",
       "    .dataframe tbody tr th:only-of-type {\n",
       "        vertical-align: middle;\n",
       "    }\n",
       "\n",
       "    .dataframe tbody tr th {\n",
       "        vertical-align: top;\n",
       "    }\n",
       "\n",
       "    .dataframe thead th {\n",
       "        text-align: right;\n",
       "    }\n",
       "</style>\n",
       "<table border=\"1\" class=\"dataframe\">\n",
       "  <thead>\n",
       "    <tr style=\"text-align: right;\">\n",
       "      <th></th>\n",
       "      <th>事实认定</th>\n",
       "      <th>审理意见</th>\n",
       "      <th>判决结果</th>\n",
       "      <th>量刑</th>\n",
       "      <th>量刑全文</th>\n",
       "      <th>长度</th>\n",
       "      <th>金额</th>\n",
       "      <th>罪名</th>\n",
       "      <th>有期徒刑</th>\n",
       "      <th>缓刑</th>\n",
       "      <th>...</th>\n",
       "      <th>多次索贿</th>\n",
       "      <th>致使公共财产、国家和人民利益遭受损失</th>\n",
       "      <th>为他人谋取职务提拔、调整</th>\n",
       "      <th>曾因受过处分</th>\n",
       "      <th>曾因*罪</th>\n",
       "      <th>赃款赃物用于非法活动</th>\n",
       "      <th>无法追缴</th>\n",
       "      <th>造成恶劣影响</th>\n",
       "      <th>造成严重后果</th>\n",
       "      <th>通过其他国家工作人员职务上的行为</th>\n",
       "    </tr>\n",
       "    <tr>\n",
       "      <th>index</th>\n",
       "      <th></th>\n",
       "      <th></th>\n",
       "      <th></th>\n",
       "      <th></th>\n",
       "      <th></th>\n",
       "      <th></th>\n",
       "      <th></th>\n",
       "      <th></th>\n",
       "      <th></th>\n",
       "      <th></th>\n",
       "      <th></th>\n",
       "      <th></th>\n",
       "      <th></th>\n",
       "      <th></th>\n",
       "      <th></th>\n",
       "      <th></th>\n",
       "      <th></th>\n",
       "      <th></th>\n",
       "      <th></th>\n",
       "      <th></th>\n",
       "      <th></th>\n",
       "    </tr>\n",
       "  </thead>\n",
       "  <tbody>\n",
       "    <tr>\n",
       "      <th>3644.txt</th>\n",
       "      <td>，2007年至2011年间，被告人卓天双利用其担任桐林监狱监狱长的职务便利，在桐林监狱迁建梧...</td>\n",
       "      <td>，被告人卓天双身为国家工作人员，利用职务上的便利，非法收受他人人民币41万元，为他人谋取利益...</td>\n",
       "      <td>：一、被告人卓天双犯受贿罪，判处有期徒刑三年三个月，并处罚金人民币二十八万元；（刑期从判决执...</td>\n",
       "      <td>['：一、被告人卓天双犯受贿罪', '判处有期徒刑三年三个月', '并处罚金人民币二十八万元...</td>\n",
       "      <td>：一、被告人卓天双犯受贿罪，判处有期徒刑三年三个月，并处罚金人民币二十八万元；（刑期从判决执...</td>\n",
       "      <td>3</td>\n",
       "      <td>15152187.0</td>\n",
       "      <td>受贿</td>\n",
       "      <td>三年三个月</td>\n",
       "      <td>NaN</td>\n",
       "      <td>...</td>\n",
       "      <td>False</td>\n",
       "      <td>False</td>\n",
       "      <td>False</td>\n",
       "      <td>False</td>\n",
       "      <td>False</td>\n",
       "      <td>False</td>\n",
       "      <td>False</td>\n",
       "      <td>False</td>\n",
       "      <td>False</td>\n",
       "      <td>False</td>\n",
       "    </tr>\n",
       "    <tr>\n",
       "      <th>18441.txt</th>\n",
       "      <td>，一、被告人谢飞军在担任浙江师范大学杭州幼儿师范学院副院长及浙江师范大学杭州校区管理办公室副...</td>\n",
       "      <td>，被告人谢飞军系国家工作人员，利用职务上的便利，非法收受他人财物，为他人谋取利益，其行为已构...</td>\n",
       "      <td>：一、被告人谢飞军犯受贿罪，判处有期徒刑十年，并处没收财产人民币20000元（刑期从判决执行...</td>\n",
       "      <td>['：一、被告人谢飞军犯受贿罪', '判处有期徒刑十年', '并处没收财产人民币20000元...</td>\n",
       "      <td>：一、被告人谢飞军犯受贿罪，判处有期徒刑十年，并处没收财产人民币20000元（刑期从判决执行...</td>\n",
       "      <td>3</td>\n",
       "      <td>557000.0</td>\n",
       "      <td>受贿</td>\n",
       "      <td>十年</td>\n",
       "      <td>NaN</td>\n",
       "      <td>...</td>\n",
       "      <td>False</td>\n",
       "      <td>False</td>\n",
       "      <td>False</td>\n",
       "      <td>False</td>\n",
       "      <td>False</td>\n",
       "      <td>False</td>\n",
       "      <td>False</td>\n",
       "      <td>False</td>\n",
       "      <td>False</td>\n",
       "      <td>False</td>\n",
       "    </tr>\n",
       "    <tr>\n",
       "      <th>5235.txt</th>\n",
       "      <td>：2013年11月至案发，被告人龙开泉担任雅安市名山区水务局局长。龙开泉在其任职期间，利用职...</td>\n",
       "      <td>，被告人龙开泉身为国家工作人员，利用职务之便，非法收受他人财物230万元，数额巨大，并为他人...</td>\n",
       "      <td>：一、被告人龙开泉犯受贿罪，判处有期徒刑七年，并处罚金人民币三十万元。（刑期自判决执行之日起...</td>\n",
       "      <td>['：一、被告人龙开泉犯受贿罪', '判处有期徒刑七年', '并处罚金人民币三十万元']</td>\n",
       "      <td>：一、被告人龙开泉犯受贿罪，判处有期徒刑七年，并处罚金人民币三十万元</td>\n",
       "      <td>3</td>\n",
       "      <td>12520000.0</td>\n",
       "      <td>受贿</td>\n",
       "      <td>七年</td>\n",
       "      <td>NaN</td>\n",
       "      <td>...</td>\n",
       "      <td>False</td>\n",
       "      <td>False</td>\n",
       "      <td>False</td>\n",
       "      <td>False</td>\n",
       "      <td>False</td>\n",
       "      <td>False</td>\n",
       "      <td>False</td>\n",
       "      <td>False</td>\n",
       "      <td>False</td>\n",
       "      <td>False</td>\n",
       "    </tr>\n",
       "    <tr>\n",
       "      <th>1053.txt</th>\n",
       "      <td>：2011年冬季征兵期间，刘绪树为了让其子刘晓龙顺利入伍，在被告人翟某办公室送给翟某人民币现...</td>\n",
       "      <td>，被告人翟某身为鄂州市梁子湖区梁子镇党委委员、武装部长，在其负责梁子镇征兵过程中，利用职务便...</td>\n",
       "      <td>：被告人翟某犯受贿罪，判处免予刑事处罚。如不服本判决，可在接到判决书的第二日起十日内，通过本...</td>\n",
       "      <td>['：被告人翟某犯受贿罪', '判处免予刑事处罚']</td>\n",
       "      <td>：被告人翟某犯受贿罪，判处免予刑事处罚</td>\n",
       "      <td>2</td>\n",
       "      <td>174100.0</td>\n",
       "      <td>受贿</td>\n",
       "      <td>NaN</td>\n",
       "      <td>NaN</td>\n",
       "      <td>...</td>\n",
       "      <td>False</td>\n",
       "      <td>False</td>\n",
       "      <td>False</td>\n",
       "      <td>False</td>\n",
       "      <td>False</td>\n",
       "      <td>False</td>\n",
       "      <td>False</td>\n",
       "      <td>False</td>\n",
       "      <td>False</td>\n",
       "      <td>False</td>\n",
       "    </tr>\n",
       "    <tr>\n",
       "      <th>13514.txt</th>\n",
       "      <td>：2010年8月，时任焦作电厂经营策划部部长的被告人孙某某，利用担任经营策划部主任负责处理王...</td>\n",
       "      <td>，被告人孙某某身为国有公司从事公务的人员，利用职务上的便利，非法收受他人现金5万元，为他人谋...</td>\n",
       "      <td>：被告人孙某某犯受贿罪，免予刑事处罚。如不服本判决，可在接到判决书的第二日起十日内，通过本院...</td>\n",
       "      <td>['：被告人孙某某犯受贿罪', '免予刑事处罚']</td>\n",
       "      <td>：被告人孙某某犯受贿罪，免予刑事处罚</td>\n",
       "      <td>2</td>\n",
       "      <td>30800100.0</td>\n",
       "      <td>受贿</td>\n",
       "      <td>NaN</td>\n",
       "      <td>NaN</td>\n",
       "      <td>...</td>\n",
       "      <td>False</td>\n",
       "      <td>False</td>\n",
       "      <td>False</td>\n",
       "      <td>False</td>\n",
       "      <td>False</td>\n",
       "      <td>False</td>\n",
       "      <td>False</td>\n",
       "      <td>False</td>\n",
       "      <td>False</td>\n",
       "      <td>False</td>\n",
       "    </tr>\n",
       "  </tbody>\n",
       "</table>\n",
       "<p>5 rows × 36 columns</p>\n",
       "</div>"
      ],
      "text/plain": [
       "                                                        事实认定  \\\n",
       "index                                                          \n",
       "3644.txt   ，2007年至2011年间，被告人卓天双利用其担任桐林监狱监狱长的职务便利，在桐林监狱迁建梧...   \n",
       "18441.txt  ，一、被告人谢飞军在担任浙江师范大学杭州幼儿师范学院副院长及浙江师范大学杭州校区管理办公室副...   \n",
       "5235.txt   ：2013年11月至案发，被告人龙开泉担任雅安市名山区水务局局长。龙开泉在其任职期间，利用职...   \n",
       "1053.txt   ：2011年冬季征兵期间，刘绪树为了让其子刘晓龙顺利入伍，在被告人翟某办公室送给翟某人民币现...   \n",
       "13514.txt  ：2010年8月，时任焦作电厂经营策划部部长的被告人孙某某，利用担任经营策划部主任负责处理王...   \n",
       "\n",
       "                                                        审理意见  \\\n",
       "index                                                          \n",
       "3644.txt   ，被告人卓天双身为国家工作人员，利用职务上的便利，非法收受他人人民币41万元，为他人谋取利益...   \n",
       "18441.txt  ，被告人谢飞军系国家工作人员，利用职务上的便利，非法收受他人财物，为他人谋取利益，其行为已构...   \n",
       "5235.txt   ，被告人龙开泉身为国家工作人员，利用职务之便，非法收受他人财物230万元，数额巨大，并为他人...   \n",
       "1053.txt   ，被告人翟某身为鄂州市梁子湖区梁子镇党委委员、武装部长，在其负责梁子镇征兵过程中，利用职务便...   \n",
       "13514.txt  ，被告人孙某某身为国有公司从事公务的人员，利用职务上的便利，非法收受他人现金5万元，为他人谋...   \n",
       "\n",
       "                                                        判决结果  \\\n",
       "index                                                          \n",
       "3644.txt   ：一、被告人卓天双犯受贿罪，判处有期徒刑三年三个月，并处罚金人民币二十八万元；（刑期从判决执...   \n",
       "18441.txt  ：一、被告人谢飞军犯受贿罪，判处有期徒刑十年，并处没收财产人民币20000元（刑期从判决执行...   \n",
       "5235.txt   ：一、被告人龙开泉犯受贿罪，判处有期徒刑七年，并处罚金人民币三十万元。（刑期自判决执行之日起...   \n",
       "1053.txt   ：被告人翟某犯受贿罪，判处免予刑事处罚。如不服本判决，可在接到判决书的第二日起十日内，通过本...   \n",
       "13514.txt  ：被告人孙某某犯受贿罪，免予刑事处罚。如不服本判决，可在接到判决书的第二日起十日内，通过本院...   \n",
       "\n",
       "                                                          量刑  \\\n",
       "index                                                          \n",
       "3644.txt   ['：一、被告人卓天双犯受贿罪', '判处有期徒刑三年三个月', '并处罚金人民币二十八万元...   \n",
       "18441.txt  ['：一、被告人谢飞军犯受贿罪', '判处有期徒刑十年', '并处没收财产人民币20000元...   \n",
       "5235.txt        ['：一、被告人龙开泉犯受贿罪', '判处有期徒刑七年', '并处罚金人民币三十万元']   \n",
       "1053.txt                          ['：被告人翟某犯受贿罪', '判处免予刑事处罚']   \n",
       "13514.txt                          ['：被告人孙某某犯受贿罪', '免予刑事处罚']   \n",
       "\n",
       "                                                        量刑全文  长度          金额  \\\n",
       "index                                                                          \n",
       "3644.txt   ：一、被告人卓天双犯受贿罪，判处有期徒刑三年三个月，并处罚金人民币二十八万元；（刑期从判决执...   3  15152187.0   \n",
       "18441.txt  ：一、被告人谢飞军犯受贿罪，判处有期徒刑十年，并处没收财产人民币20000元（刑期从判决执行...   3    557000.0   \n",
       "5235.txt                  ：一、被告人龙开泉犯受贿罪，判处有期徒刑七年，并处罚金人民币三十万元   3  12520000.0   \n",
       "1053.txt                                 ：被告人翟某犯受贿罪，判处免予刑事处罚   2    174100.0   \n",
       "13514.txt                                 ：被告人孙某某犯受贿罪，免予刑事处罚   2  30800100.0   \n",
       "\n",
       "           罪名   有期徒刑   缓刑  ...   多次索贿  致使公共财产、国家和人民利益遭受损失  为他人谋取职务提拔、调整  \\\n",
       "index                      ...                                            \n",
       "3644.txt   受贿  三年三个月  NaN  ...  False               False         False   \n",
       "18441.txt  受贿     十年  NaN  ...  False               False         False   \n",
       "5235.txt   受贿     七年  NaN  ...  False               False         False   \n",
       "1053.txt   受贿    NaN  NaN  ...  False               False         False   \n",
       "13514.txt  受贿    NaN  NaN  ...  False               False         False   \n",
       "\n",
       "           曾因受过处分   曾因*罪  赃款赃物用于非法活动   无法追缴  造成恶劣影响  造成严重后果  通过其他国家工作人员职务上的行为  \n",
       "index                                                                          \n",
       "3644.txt    False  False       False  False   False   False             False  \n",
       "18441.txt   False  False       False  False   False   False             False  \n",
       "5235.txt    False  False       False  False   False   False             False  \n",
       "1053.txt    False  False       False  False   False   False             False  \n",
       "13514.txt   False  False       False  False   False   False             False  \n",
       "\n",
       "[5 rows x 36 columns]"
      ]
     },
     "execution_count": 35,
     "metadata": {},
     "output_type": "execute_result"
    }
   ],
   "source": [
    "results.to_csv('results.csv')"
   ]
  }
 ],
 "metadata": {
  "kernelspec": {
   "display_name": "Python 3.9.7 ('base')",
   "language": "python",
   "name": "python3"
  },
  "language_info": {
   "codemirror_mode": {
    "name": "ipython",
    "version": 3
   },
   "file_extension": ".py",
   "mimetype": "text/x-python",
   "name": "python",
   "nbconvert_exporter": "python",
   "pygments_lexer": "ipython3",
   "version": "3.9.7"
  },
  "vscode": {
   "interpreter": {
    "hash": "91a314fe8294e1a305f1e19833a48c0376e70f37ff18b9e82d8cfb33f29e10ef"
   }
  }
 },
 "nbformat": 4,
 "nbformat_minor": 5
}
