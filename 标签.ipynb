{
 "cells": [
  {
   "cell_type": "code",
   "execution_count": 2,
   "id": "abbcff1d",
   "metadata": {},
   "outputs": [],
   "source": [
    "import pandas as pd\n",
    "import numpy as np\n",
    "import re\n",
    "import os"
   ]
  },
  {
   "cell_type": "code",
   "execution_count": 2,
   "id": "6186d5d0",
   "metadata": {},
   "outputs": [],
   "source": [
    "file_list = list(os.listdir('/Users/sitongli/Desktop/law/bribe_data/'))\n",
    "file_list.remove('.DS_Store')"
   ]
  },
  {
   "cell_type": "code",
   "execution_count": 3,
   "id": "79f98479",
   "metadata": {},
   "outputs": [],
   "source": [
    "results = pd.DataFrame(index = file_list)"
   ]
  },
  {
   "cell_type": "code",
   "execution_count": 4,
   "id": "4b0f318f",
   "metadata": {},
   "outputs": [
    {
     "name": "stderr",
     "output_type": "stream",
     "text": [
      "/var/folders/wl/979m696s19n36hpys3mzqq2c0000gn/T/ipykernel_61228/357701048.py:1: DeprecationWarning: The default dtype for empty Series will be 'object' instead of 'float64' in a future version. Specify a dtype explicitly to silence this warning.\n",
      "  results['事实认定'] = pd.Series()\n",
      "/var/folders/wl/979m696s19n36hpys3mzqq2c0000gn/T/ipykernel_61228/357701048.py:2: DeprecationWarning: The default dtype for empty Series will be 'object' instead of 'float64' in a future version. Specify a dtype explicitly to silence this warning.\n",
      "  results['审理意见'] = pd.Series()\n",
      "/var/folders/wl/979m696s19n36hpys3mzqq2c0000gn/T/ipykernel_61228/357701048.py:3: DeprecationWarning: The default dtype for empty Series will be 'object' instead of 'float64' in a future version. Specify a dtype explicitly to silence this warning.\n",
      "  results['判决结果'] = pd.Series()\n",
      "/opt/anaconda3/lib/python3.9/site-packages/pandas/core/indexing.py:1732: SettingWithCopyWarning: \n",
      "A value is trying to be set on a copy of a slice from a DataFrame\n",
      "\n",
      "See the caveats in the documentation: https://pandas.pydata.org/pandas-docs/stable/user_guide/indexing.html#returning-a-view-versus-a-copy\n",
      "  self._setitem_single_block(indexer, value, name)\n"
     ]
    }
   ],
   "source": [
    "results['事实认定'] = pd.Series()\n",
    "results['审理意见'] = pd.Series()\n",
    "results['判决结果'] = pd.Series()\n",
    "for i in range(len(results)):\n",
    "    with open('/Users/sitongli/Desktop/law/bribe_data/'+results.index[i],'r+',encoding='utf8') as f:\n",
    "        content = f.read()\n",
    "        if len(re.findall('经审理查明(.*?)本院认为',content,re.S)) !=0:\n",
    "            results['事实认定'].iloc[i] =  re.findall('经审理查明(.*?)本院认为',content,re.S)[0]\n",
    "        if len(re.findall('本院认为(.*?)判决如下',content,re.S)) !=0:\n",
    "            results['审理意见'].iloc[i] =  re.findall('本院认为(.*?)判决如下',content,re.S)[0]\n",
    "        if len(re.findall('判决如下(.*?)审判长',content,re.S)) !=0:\n",
    "            results['判决结果'].iloc[i] =  re.findall('判决如下(.*?)审判长',content,re.S)[0]\n",
    "\n",
    "        "
   ]
  },
  {
   "cell_type": "code",
   "execution_count": 5,
   "id": "643d3704",
   "metadata": {},
   "outputs": [],
   "source": [
    "results = results.dropna()"
   ]
  },
  {
   "cell_type": "code",
   "execution_count": 19,
   "id": "6f0d950d",
   "metadata": {},
   "outputs": [],
   "source": [
    "results = pd.read_csv('res.csv',index_col=0)"
   ]
  },
  {
   "cell_type": "code",
   "execution_count": 20,
   "id": "b0f8cf02",
   "metadata": {},
   "outputs": [
    {
     "data": {
      "text/plain": [
       "3399"
      ]
     },
     "execution_count": 20,
     "metadata": {},
     "output_type": "execute_result"
    }
   ],
   "source": [
    "#有效\n",
    "results['退赃'] = results['事实认定'].str.contains('退赃')\n",
    "results['退赃'].sum()"
   ]
  },
  {
   "cell_type": "code",
   "execution_count": 21,
   "id": "00875944",
   "metadata": {},
   "outputs": [
    {
     "data": {
      "text/plain": [
       "2732"
      ]
     },
     "execution_count": 21,
     "metadata": {},
     "output_type": "execute_result"
    }
   ],
   "source": [
    "results['自首'] = results['事实认定'].str.contains('自首')\n",
    "results['自首'].sum()"
   ]
  },
  {
   "cell_type": "code",
   "execution_count": 22,
   "id": "467ca1e6",
   "metadata": {},
   "outputs": [
    {
     "data": {
      "text/plain": [
       "372"
      ]
     },
     "execution_count": 22,
     "metadata": {},
     "output_type": "execute_result"
    }
   ],
   "source": [
    "results['不构成自首'] = results['审理意见'].str.contains('不构成自首')\n",
    "results['不构成自首'].sum()"
   ]
  },
  {
   "cell_type": "code",
   "execution_count": 23,
   "id": "672a1382",
   "metadata": {},
   "outputs": [],
   "source": [
    "results['坦白'] = results['事实认定'].str.contains('坦白')\n",
    "results['如实供述'] = results['事实认定'].str.contains('如实供述')\n",
    "results['主动交代'] = results['事实认定'].str.contains('主动交代')"
   ]
  },
  {
   "cell_type": "code",
   "execution_count": 24,
   "id": "009d290d",
   "metadata": {
    "scrolled": true
   },
   "outputs": [],
   "source": [
    "results['立功'] = results['审理意见'].str.contains('立功')\n",
    "results['检举查证属实'] = results['审理意见'].str.contains('检举.*?查证属实')\n",
    "results['揭发'] = results['审理意见'].str.contains('揭发')\n",
    "results['立功不予采纳'] = results['审理意见'].str.contains('立功.*?不予采纳')"
   ]
  },
  {
   "cell_type": "code",
   "execution_count": 25,
   "id": "b8a19b5a",
   "metadata": {},
   "outputs": [],
   "source": [
    "results['认罪态度良好'] = results['审理意见'].str.contains('认罪态度良好')\n",
    "results['认罪认罚'] = results['审理意见'].str.contains('认罪认罚')\n",
    "results['当庭认罪'] = results['审理意见'].str.contains('当庭认罪')\n",
    "results['悔罪'] = results['审理意见'].str.contains('悔罪')"
   ]
  },
  {
   "cell_type": "code",
   "execution_count": 26,
   "id": "80652976",
   "metadata": {},
   "outputs": [],
   "source": [
    "results['多次索贿'] = results['审理意见'].str.contains('多次索贿')"
   ]
  },
  {
   "cell_type": "code",
   "execution_count": 27,
   "id": "cbcda226",
   "metadata": {},
   "outputs": [],
   "source": [
    "#数量过少\n",
    "results['致使公共财产、国家和人民利益遭受损失'] = results['审理意见'].str.contains('致使公共财产、国家和人民利益遭受损失')"
   ]
  },
  {
   "cell_type": "code",
   "execution_count": 28,
   "id": "c8f57db7",
   "metadata": {},
   "outputs": [],
   "source": [
    "#数量过少\n",
    "results['为他人谋取职务提拔、调整'] = results['审理意见'].str.contains('为他人谋取职务提拔、调整')"
   ]
  },
  {
   "cell_type": "code",
   "execution_count": 29,
   "id": "3143c738",
   "metadata": {},
   "outputs": [],
   "source": [
    "#数量过少\n",
    "results['曾因受过处分'] = results['审理意见'].str.contains('曾因.*?受过.*?处分')"
   ]
  },
  {
   "cell_type": "code",
   "execution_count": 30,
   "id": "530fcba6",
   "metadata": {},
   "outputs": [],
   "source": [
    "\n",
    "results['曾因*罪'] = results['审理意见'].str.contains('曾因.*?罪')"
   ]
  },
  {
   "cell_type": "code",
   "execution_count": 31,
   "id": "39f826de",
   "metadata": {},
   "outputs": [],
   "source": [
    "\n",
    "results['赃款赃物用于非法活动'] = results['审理意见'].str.contains('赃款赃物用于非法活动')\n",
    "results['无法追缴'] = results['审理意见'].str.contains('无法追缴')"
   ]
  },
  {
   "cell_type": "code",
   "execution_count": 32,
   "id": "4f1e66fa",
   "metadata": {},
   "outputs": [],
   "source": [
    "results['造成恶劣影响'] = results['审理意见'].str.contains('造成恶劣影响')\n",
    "results['造成严重后果'] = results['审理意见'].str.contains('造成严重后果')\n"
   ]
  },
  {
   "cell_type": "code",
   "execution_count": 33,
   "id": "353026e8",
   "metadata": {},
   "outputs": [],
   "source": [
    "results['通过其他国家工作人员职务上的行为'] = results['审理意见'].str.contains('通过其他国家工作人员职务上的行为')"
   ]
  },
  {
   "cell_type": "code",
   "execution_count": 34,
   "id": "5a796e2c",
   "metadata": {},
   "outputs": [
    {
     "ename": "KeyboardInterrupt",
     "evalue": "",
     "output_type": "error",
     "traceback": [
      "\u001b[1;31m---------------------------------------------------------------------------\u001b[0m",
      "\u001b[1;31mKeyboardInterrupt\u001b[0m                         Traceback (most recent call last)",
      "\u001b[1;32mc:\\Codes\\AILAW\\标签.ipynb Cell 21\u001b[0m in \u001b[0;36m<cell line: 1>\u001b[1;34m()\u001b[0m\n\u001b[1;32m----> <a href='vscode-notebook-cell:/c%3A/Codes/AILAW/%E6%A0%87%E7%AD%BE.ipynb#X26sZmlsZQ%3D%3D?line=0'>1</a>\u001b[0m results\u001b[39m.\u001b[39;49mto_excel(\u001b[39m\"\u001b[39;49m\u001b[39mresults.xlsx\u001b[39;49m\u001b[39m\"\u001b[39;49m)\n\u001b[0;32m      <a href='vscode-notebook-cell:/c%3A/Codes/AILAW/%E6%A0%87%E7%AD%BE.ipynb#X26sZmlsZQ%3D%3D?line=1'>2</a>\u001b[0m results\u001b[39m.\u001b[39mdescribe()\u001b[39m.\u001b[39mto_excel(\u001b[39m\"\u001b[39m\u001b[39mresults_des.xlsx\u001b[39m\u001b[39m\"\u001b[39m)\n",
      "File \u001b[1;32m~\\anaconda3\\lib\\site-packages\\pandas\\core\\generic.py:2345\u001b[0m, in \u001b[0;36mNDFrame.to_excel\u001b[1;34m(self, excel_writer, sheet_name, na_rep, float_format, columns, header, index, index_label, startrow, startcol, engine, merge_cells, encoding, inf_rep, verbose, freeze_panes, storage_options)\u001b[0m\n\u001b[0;32m   2332\u001b[0m \u001b[39mfrom\u001b[39;00m \u001b[39mpandas\u001b[39;00m\u001b[39m.\u001b[39;00m\u001b[39mio\u001b[39;00m\u001b[39m.\u001b[39;00m\u001b[39mformats\u001b[39;00m\u001b[39m.\u001b[39;00m\u001b[39mexcel\u001b[39;00m \u001b[39mimport\u001b[39;00m ExcelFormatter\n\u001b[0;32m   2334\u001b[0m formatter \u001b[39m=\u001b[39m ExcelFormatter(\n\u001b[0;32m   2335\u001b[0m     df,\n\u001b[0;32m   2336\u001b[0m     na_rep\u001b[39m=\u001b[39mna_rep,\n\u001b[1;32m   (...)\u001b[0m\n\u001b[0;32m   2343\u001b[0m     inf_rep\u001b[39m=\u001b[39minf_rep,\n\u001b[0;32m   2344\u001b[0m )\n\u001b[1;32m-> 2345\u001b[0m formatter\u001b[39m.\u001b[39;49mwrite(\n\u001b[0;32m   2346\u001b[0m     excel_writer,\n\u001b[0;32m   2347\u001b[0m     sheet_name\u001b[39m=\u001b[39;49msheet_name,\n\u001b[0;32m   2348\u001b[0m     startrow\u001b[39m=\u001b[39;49mstartrow,\n\u001b[0;32m   2349\u001b[0m     startcol\u001b[39m=\u001b[39;49mstartcol,\n\u001b[0;32m   2350\u001b[0m     freeze_panes\u001b[39m=\u001b[39;49mfreeze_panes,\n\u001b[0;32m   2351\u001b[0m     engine\u001b[39m=\u001b[39;49mengine,\n\u001b[0;32m   2352\u001b[0m     storage_options\u001b[39m=\u001b[39;49mstorage_options,\n\u001b[0;32m   2353\u001b[0m )\n",
      "File \u001b[1;32m~\\anaconda3\\lib\\site-packages\\pandas\\io\\formats\\excel.py:894\u001b[0m, in \u001b[0;36mExcelFormatter.write\u001b[1;34m(self, writer, sheet_name, startrow, startcol, freeze_panes, engine, storage_options)\u001b[0m\n\u001b[0;32m    891\u001b[0m     need_save \u001b[39m=\u001b[39m \u001b[39mTrue\u001b[39;00m\n\u001b[0;32m    893\u001b[0m \u001b[39mtry\u001b[39;00m:\n\u001b[1;32m--> 894\u001b[0m     writer\u001b[39m.\u001b[39;49mwrite_cells(\n\u001b[0;32m    895\u001b[0m         formatted_cells,\n\u001b[0;32m    896\u001b[0m         sheet_name,\n\u001b[0;32m    897\u001b[0m         startrow\u001b[39m=\u001b[39;49mstartrow,\n\u001b[0;32m    898\u001b[0m         startcol\u001b[39m=\u001b[39;49mstartcol,\n\u001b[0;32m    899\u001b[0m         freeze_panes\u001b[39m=\u001b[39;49mfreeze_panes,\n\u001b[0;32m    900\u001b[0m     )\n\u001b[0;32m    901\u001b[0m \u001b[39mfinally\u001b[39;00m:\n\u001b[0;32m    902\u001b[0m     \u001b[39m# make sure to close opened file handles\u001b[39;00m\n\u001b[0;32m    903\u001b[0m     \u001b[39mif\u001b[39;00m need_save:\n",
      "File \u001b[1;32m~\\anaconda3\\lib\\site-packages\\pandas\\io\\excel\\_xlsxwriter.py:227\u001b[0m, in \u001b[0;36mXlsxWriter.write_cells\u001b[1;34m(self, cells, sheet_name, startrow, startcol, freeze_panes)\u001b[0m\n\u001b[0;32m    224\u001b[0m \u001b[39mif\u001b[39;00m validate_freeze_panes(freeze_panes):\n\u001b[0;32m    225\u001b[0m     wks\u001b[39m.\u001b[39mfreeze_panes(\u001b[39m*\u001b[39m(freeze_panes))\n\u001b[1;32m--> 227\u001b[0m \u001b[39mfor\u001b[39;00m cell \u001b[39min\u001b[39;00m cells:\n\u001b[0;32m    228\u001b[0m     val, fmt \u001b[39m=\u001b[39m \u001b[39mself\u001b[39m\u001b[39m.\u001b[39m_value_with_fmt(cell\u001b[39m.\u001b[39mval)\n\u001b[0;32m    230\u001b[0m     stylekey \u001b[39m=\u001b[39m json\u001b[39m.\u001b[39mdumps(cell\u001b[39m.\u001b[39mstyle)\n",
      "File \u001b[1;32m~\\anaconda3\\lib\\site-packages\\pandas\\io\\formats\\excel.py:831\u001b[0m, in \u001b[0;36mExcelFormatter.get_formatted_cells\u001b[1;34m(self)\u001b[0m\n\u001b[0;32m    830\u001b[0m \u001b[39mdef\u001b[39;00m \u001b[39mget_formatted_cells\u001b[39m(\u001b[39mself\u001b[39m) \u001b[39m-\u001b[39m\u001b[39m>\u001b[39m Iterable[ExcelCell]:\n\u001b[1;32m--> 831\u001b[0m     \u001b[39mfor\u001b[39;00m cell \u001b[39min\u001b[39;00m itertools\u001b[39m.\u001b[39mchain(\u001b[39mself\u001b[39m\u001b[39m.\u001b[39m_format_header(), \u001b[39mself\u001b[39m\u001b[39m.\u001b[39m_format_body()):\n\u001b[0;32m    832\u001b[0m         cell\u001b[39m.\u001b[39mval \u001b[39m=\u001b[39m \u001b[39mself\u001b[39m\u001b[39m.\u001b[39m_format_value(cell\u001b[39m.\u001b[39mval)\n\u001b[0;32m    833\u001b[0m         \u001b[39myield\u001b[39;00m cell\n",
      "File \u001b[1;32m~\\anaconda3\\lib\\site-packages\\pandas\\io\\formats\\excel.py:726\u001b[0m, in \u001b[0;36mExcelFormatter._format_regular_rows\u001b[1;34m(self)\u001b[0m\n\u001b[0;32m    723\u001b[0m \u001b[39melse\u001b[39;00m:\n\u001b[0;32m    724\u001b[0m     coloffset \u001b[39m=\u001b[39m \u001b[39m0\u001b[39m\n\u001b[1;32m--> 726\u001b[0m \u001b[39myield from\u001b[39;00m \u001b[39mself\u001b[39m\u001b[39m.\u001b[39m_generate_body(coloffset)\n",
      "File \u001b[1;32m~\\anaconda3\\lib\\site-packages\\pandas\\io\\formats\\excel.py:824\u001b[0m, in \u001b[0;36mExcelFormatter._generate_body\u001b[1;34m(self, coloffset)\u001b[0m\n\u001b[0;32m    817\u001b[0m series \u001b[39m=\u001b[39m \u001b[39mself\u001b[39m\u001b[39m.\u001b[39mdf\u001b[39m.\u001b[39miloc[:, colidx]\n\u001b[0;32m    818\u001b[0m \u001b[39mfor\u001b[39;00m i, val \u001b[39min\u001b[39;00m \u001b[39menumerate\u001b[39m(series):\n\u001b[0;32m    819\u001b[0m     \u001b[39myield\u001b[39;00m CssExcelCell(\n\u001b[0;32m    820\u001b[0m         row\u001b[39m=\u001b[39m\u001b[39mself\u001b[39m\u001b[39m.\u001b[39mrowcounter \u001b[39m+\u001b[39m i,\n\u001b[0;32m    821\u001b[0m         col\u001b[39m=\u001b[39mcolidx \u001b[39m+\u001b[39m coloffset,\n\u001b[0;32m    822\u001b[0m         val\u001b[39m=\u001b[39mval,\n\u001b[0;32m    823\u001b[0m         style\u001b[39m=\u001b[39m\u001b[39mNone\u001b[39;00m,\n\u001b[1;32m--> 824\u001b[0m         css_styles\u001b[39m=\u001b[39m\u001b[39mgetattr\u001b[39m(\u001b[39mself\u001b[39;49m\u001b[39m.\u001b[39;49mstyler, \u001b[39m\"\u001b[39m\u001b[39mctx\u001b[39m\u001b[39m\"\u001b[39m, \u001b[39mNone\u001b[39;00m),\n\u001b[0;32m    825\u001b[0m         css_row\u001b[39m=\u001b[39mi,\n\u001b[0;32m    826\u001b[0m         css_col\u001b[39m=\u001b[39mcolidx,\n\u001b[0;32m    827\u001b[0m         css_converter\u001b[39m=\u001b[39m\u001b[39mself\u001b[39m\u001b[39m.\u001b[39mstyle_converter,\n\u001b[0;32m    828\u001b[0m     )\n",
      "\u001b[1;31mKeyboardInterrupt\u001b[0m: "
     ]
    }
   ],
   "source": [
    "results.to_excel(\"results.xlsx\")\n",
    "results.describe().to_excel(\"results_des.xlsx\")"
   ]
  },
  {
   "cell_type": "code",
   "execution_count": 36,
   "id": "13a9d51a",
   "metadata": {},
   "outputs": [],
   "source": [
    "results.to_csv('results.csv')"
   ]
  }
 ],
 "metadata": {
  "kernelspec": {
   "display_name": "Python 3.9.7 ('base')",
   "language": "python",
   "name": "python3"
  },
  "language_info": {
   "codemirror_mode": {
    "name": "ipython",
    "version": 3
   },
   "file_extension": ".py",
   "mimetype": "text/x-python",
   "name": "python",
   "nbconvert_exporter": "python",
   "pygments_lexer": "ipython3",
   "version": "3.9.7"
  },
  "vscode": {
   "interpreter": {
    "hash": "91a314fe8294e1a305f1e19833a48c0376e70f37ff18b9e82d8cfb33f29e10ef"
   }
  }
 },
 "nbformat": 4,
 "nbformat_minor": 5
}
