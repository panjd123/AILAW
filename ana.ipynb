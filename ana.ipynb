{
 "cells": [
  {
   "cell_type": "code",
   "execution_count": 25,
   "metadata": {},
   "outputs": [],
   "source": [
    "import pandas as pd\n",
    "import numpy as np\n",
    "import torch\n",
    "from torch import nn\n",
    "from torch.utils.data import DataLoader,Dataset\n",
    "import torch.nn.functional as F\n",
    "import xgboost as xgb\n",
    "df = pd.read_csv('res_sm.csv')\n",
    "\n",
    "variable_lable = ['金额', '退赃', '自首', '不构成自首', '坦白', '如实供述', '主动交代', '立功',\n",
    "       '检举查证属实', '揭发', '立功不予采纳', '认罪态度良好', '认罪认罚', '当庭认罪', '悔罪', '多次索贿',\n",
    "       '致使公共财产、国家和人民利益遭受损失', '为他人谋取职务提拔、调整', '曾因受过处分', '曾因*罪', '赃款赃物用于非法活动',\n",
    "       '无法追缴', '造成恶劣影响', '造成严重后果', '通过其他国家工作人员职务上的行为']\n",
    "\n",
    "output_lable = ['有期徒刑', '缓刑', '罚金']\n",
    "output_lable = ['有期徒刑']\n",
    "\n",
    "df.fillna(0,inplace=True)\n",
    "variable = df.loc[:,variable_lable].values.astype(np.float32)\n",
    "output = df.loc[:,output_lable].values.astype(np.float32)"
   ]
  },
  {
   "cell_type": "code",
   "execution_count": 26,
   "metadata": {},
   "outputs": [],
   "source": [
    "feature_num = len(variable_lable)\n",
    "lable_num = len(output_lable)\n",
    "\n",
    "class Net(nn.Module):\n",
    "    \n",
    "    def __init__(self) -> None:\n",
    "        super().__init__()\n",
    "        self.lin1 = nn.Linear(feature_num, 128)\n",
    "        self.lin2 = nn.Linear(128, 16)\n",
    "        self.lin3 = nn.Linear(16, lable_num)\n",
    "    \n",
    "    def forward(self, x):\n",
    "        x = F.relu(self.lin1(x))\n",
    "        x = F.relu(self.lin2(x))\n",
    "        x = self.lin3(x)\n",
    "        return x\n",
    "    \n",
    "    def train(self, train_loader,epoch=100):\n",
    "        optimizer = torch.optim.Adam(self.parameters(), lr=0.001)\n",
    "        criterion = nn.MSELoss()\n",
    "        for i in range(epoch):\n",
    "            for x, y in train_loader:\n",
    "                y_pred = self.forward(x)\n",
    "                loss = criterion(y_pred, y)\n",
    "                optimizer.zero_grad()\n",
    "                loss.backward()\n",
    "                optimizer.step()\n",
    "            if i%10 == 0:\n",
    "                print(f'epoch:{i}, loss:{loss.item()}')\n",
    "\n",
    "train_idx = np.random.choice(len(variable), int(len(variable)*0.8), replace=False)\n",
    "test_idx = np.array(list(set(range(len(variable))) - set(train_idx)))\n",
    "\n",
    "data_train = variable[train_idx]\n",
    "lable_train = output[train_idx]\n",
    "data_test = variable[test_idx]\n",
    "lable_test = output[test_idx]\n",
    "\n",
    "# train_dataset = torch.utils.data.TensorDataset(torch.from_numpy(variable[train_idx]), torch.from_numpy(output[train_idx]))\n",
    "# test_dataset = torch.utils.data.TensorDataset(torch.from_numpy(variable[test_idx]), torch.from_numpy(output[test_idx]))\n",
    "\n",
    "# train_loader = DataLoader(train_dataset, batch_size=8, shuffle=True)\n",
    "# test_loader = DataLoader(test_dataset, batch_size=8, shuffle=True)\n",
    "\n",
    "# net = Net()\n",
    "\n",
    "# net.train(train_loader)\n"
   ]
  },
  {
   "cell_type": "code",
   "execution_count": 29,
   "metadata": {},
   "outputs": [
    {
     "name": "stdout",
     "output_type": "stream",
     "text": [
      "969.48145 625.5042\n"
     ]
    },
    {
     "data": {
      "text/plain": [
       "<AxesSubplot:ylabel='Count'>"
      ]
     },
     "execution_count": 29,
     "metadata": {},
     "output_type": "execute_result"
    },
    {
     "data": {
      "image/png": "[encoded data removed]",
      "text/plain": [
       "<Figure size 432x288 with 1 Axes>"
      ]
     },
     "metadata": {
      "needs_background": "light"
     },
     "output_type": "display_data"
    }
   ],
   "source": [
    "model = xgb.XGBRegressor(max_depth = 6, n_estimators = 1000, learning_rate = 0.01)\n",
    "model.fit(data_train, lable_train)\n",
    "\n",
    "\n",
    "from sklearn.metrics import mean_squared_error\n",
    "pre_test = model.predict(data_test)\n",
    "msetest = mean_squared_error(lable_test,pre_test)\n",
    "\n",
    "pre_train = model.predict(data_train)\n",
    "msetrain = mean_squared_error(lable_train,pre_train)\n",
    "\n",
    "print(msetest,msetrain)\n",
    "\n",
    "\n",
    "diff = lable_test.flatten()-pre_test\n",
    "\n",
    "import seaborn as sns\n",
    "\n",
    "sns.histplot(diff)"
   ]
  }
 ],
 "metadata": {
  "kernelspec": {
   "display_name": "Python 3.9.7 ('base')",
   "language": "python",
   "name": "python3"
  },
  "language_info": {
   "codemirror_mode": {
    "name": "ipython",
    "version": 3
   },
   "file_extension": ".py",
   "mimetype": "text/x-python",
   "name": "python",
   "nbconvert_exporter": "python",
   "pygments_lexer": "ipython3",
   "version": "3.9.7"
  },
  "orig_nbformat": 4,
  "vscode": {
   "interpreter": {
    "hash": "91a314fe8294e1a305f1e19833a48c0376e70f37ff18b9e82d8cfb33f29e10ef"
   }
  }
 },
 "nbformat": 4,
 "nbformat_minor": 2
}
