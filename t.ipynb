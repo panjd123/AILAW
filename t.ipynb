{
 "cells": [
  {
   "cell_type": "code",
   "execution_count": 1,
   "metadata": {},
   "outputs": [
    {
     "name": "stdout",
     "output_type": "stream",
     "text": [
      "130\n"
     ]
    }
   ],
   "source": [
    "import pandas as pd\n",
    "import numpy as np\n",
    "import re\n",
    "df = pd.read_json('./sample_p4.txt', encoding='gb18030', lines=True)\n",
    "df.dropna(axis=0, subset=['content'], inplace=True)\n",
    "\n",
    "fact = []\n",
    "\n",
    "\n",
    "def get_money(t: str):\n",
    "    ret = []\n",
    "    pattern = [[\"追缴赃款\"], [\"违法所得\"], [\"所得赃款\"]]\n",
    "    \n",
    "    for patn in pattern:\n",
    "        m = re.findall(f\"(?<={patn}).*元\", t, re.M)\n",
    "        ret.extend(m)\n",
    "\n",
    "    m = re.findall(f\"(?<=收受的).*赃款依法予以没收\", t, re.M)\n",
    "    ret.extend(m)\n",
    "\n",
    "    return ret\n",
    "\n",
    "\n",
    "for idx, row in df.iterrows():\n",
    "    text = row['content']\n",
    "    bg = text.find(\"经审理查明\")\n",
    "    ed = text.find(\"本院认为\")\n",
    "    text = text[bg+6:ed]\n",
    "    fact.append(text)\n",
    "\n",
    "df.insert(2, 'fact', fact)\n",
    "\n",
    "money = []\n",
    "cnt = 1\n",
    "\n",
    "for idx, row in df.iterrows():\n",
    "    if(row['content'].find(\"我院决定将该案指定\") != -1):\n",
    "        continue\n",
    "\n",
    "    m = get_money(row['content'])\n",
    "    if(len(m) == 0):\n",
    "        cnt += 1\n",
    "        print(row)\n",
    "        break\n",
    "    money.append(m)\n",
    "\n",
    "print(cnt)\n"
   ]
  }
 ],
 "metadata": {
  "kernelspec": {
   "display_name": "Python 3.9.7 ('base')",
   "language": "python",
   "name": "python3"
  },
  "language_info": {
   "codemirror_mode": {
    "name": "ipython",
    "version": 3
   },
   "file_extension": ".py",
   "mimetype": "text/x-python",
   "name": "python",
   "nbconvert_exporter": "python",
   "pygments_lexer": "ipython3",
   "version": "3.9.7"
  },
  "orig_nbformat": 4,
  "vscode": {
   "interpreter": {
    "hash": "91a314fe8294e1a305f1e19833a48c0376e70f37ff18b9e82d8cfb33f29e10ef"
   }
  }
 },
 "nbformat": 4,
 "nbformat_minor": 2
}
